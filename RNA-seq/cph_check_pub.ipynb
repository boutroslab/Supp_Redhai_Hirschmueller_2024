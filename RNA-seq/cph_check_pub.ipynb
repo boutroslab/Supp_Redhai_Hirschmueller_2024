{
 "cells": [
  {
   "cell_type": "code",
   "execution_count": 4,
   "metadata": {},
   "outputs": [],
   "source": [
    "import pandas as pd\n",
    "import seaborn as sns\n",
    "import numpy as np\n",
    "import matplotlib.pyplot as pl\n",
    "\n",
    "# Version 0.4.9\n",
    "from pydeseq2.dds import DeseqDataSet\n",
    "from pydeseq2.default_inference import DefaultInference\n",
    "from pydeseq2.ds import DeseqStats\n",
    "from pydeseq2.utils import load_example_data"
   ]
  },
  {
   "cell_type": "markdown",
   "metadata": {},
   "source": [
    "# DE Testing"
   ]
  },
  {
   "cell_type": "code",
   "execution_count": 3,
   "metadata": {},
   "outputs": [
    {
     "name": "stdout",
     "output_type": "stream",
     "text": [
      "--2024-06-12 10:32:47--  https://ftp.ncbi.nlm.nih.gov/geo/series/GSE102nnn/GSE102569/suppl/GSE102569%5Fall%5FFPKM.txt.gz\n",
      "Resolving ftp.ncbi.nlm.nih.gov (ftp.ncbi.nlm.nih.gov)... 130.14.250.12, 130.14.250.13, 2607:f220:41e:250::7, ...\n",
      "Connecting to ftp.ncbi.nlm.nih.gov (ftp.ncbi.nlm.nih.gov)|130.14.250.12|:443... connected.\n",
      "HTTP request sent, awaiting response... 200 OK\n",
      "Length: 473301 (462K) [application/x-gzip]\n",
      "Saving to: ‘GSE102569_all_FPKM.txt.gz’\n",
      "\n",
      "GSE102569_all_FPKM. 100%[===================>] 462.21K   969KB/s    in 0.5s    \n",
      "\n",
      "2024-06-12 10:32:49 (969 KB/s) - ‘GSE102569_all_FPKM.txt.gz’ saved [473301/473301]\n",
      "\n"
     ]
    }
   ],
   "source": [
    "# Download the data\n",
    "!wget https://ftp.ncbi.nlm.nih.gov/geo/series/GSE102nnn/GSE102569/suppl/GSE102569%5Fall%5FFPKM.txt.gz\n",
    "!gunzip GSE102569_all_FPKM.txt.gz"
   ]
  },
  {
   "cell_type": "code",
   "execution_count": 6,
   "metadata": {},
   "outputs": [],
   "source": [
    "# Prepare the data\n",
    "data = pd.read_csv('GSE102569_all_FPKM.txt', sep='\\t', index_col=1)\n",
    "assert 'CG9650' in data.index, 'Gene CG9650 not found in the data'\n",
    "data.drop('gene_id', axis=1, inplace=True)\n",
    "counts_df = data.T\n",
    "metadata = pd.DataFrame(index=data.columns)\n",
    "metadata['condition'] = metadata.index.str.split('_').str[0]\n",
    "\n",
    "# Filter genes with low counts\n",
    "genes_to_keep = counts_df.columns[counts_df.sum(axis=0) >= 10]\n",
    "counts_df = counts_df[genes_to_keep]"
   ]
  },
  {
   "cell_type": "code",
   "execution_count": 7,
   "metadata": {},
   "outputs": [],
   "source": [
    "# Set up the pyDESeq2 object\n",
    "inference = DefaultInference(n_cpus=8)\n",
    "dds = DeseqDataSet(\n",
    "    counts=counts_df.astype(int),\n",
    "    metadata=metadata,\n",
    "    design_factors=\"condition\",\n",
    "    refit_cooks=True,\n",
    "    inference=inference,\n",
    ")"
   ]
  },
  {
   "cell_type": "code",
   "execution_count": 8,
   "metadata": {},
   "outputs": [
    {
     "name": "stderr",
     "output_type": "stream",
     "text": [
      "Fitting size factors...\n",
      "... done in 0.03 seconds.\n",
      "\n",
      "Fitting dispersions...\n",
      "... done in 6.48 seconds.\n",
      "\n",
      "Fitting dispersion trend curve...\n",
      "... done in 3.42 seconds.\n",
      "\n",
      "Fitting MAP dispersions...\n",
      "... done in 11.64 seconds.\n",
      "\n",
      "Fitting LFCs...\n",
      "... done in 5.85 seconds.\n",
      "\n",
      "Replacing 0 outlier genes.\n",
      "\n"
     ]
    }
   ],
   "source": [
    "# Run pyDESeq2\n",
    "dds.deseq2()"
   ]
  },
  {
   "cell_type": "code",
   "execution_count": 9,
   "metadata": {},
   "outputs": [],
   "source": [
    "stat_res = DeseqStats(dds, inference=inference)"
   ]
  },
  {
   "cell_type": "code",
   "execution_count": 10,
   "metadata": {},
   "outputs": [
    {
     "name": "stderr",
     "output_type": "stream",
     "text": [
      "Running Wald tests...\n"
     ]
    },
    {
     "name": "stdout",
     "output_type": "stream",
     "text": [
      "Log2 fold change & Wald test p-value: condition ScOE vs Ctrl\n",
      "                    baseMean  log2FoldChange     lfcSE      stat  \\\n",
      "gene_short_name                                                    \n",
      "a                   2.925245       -1.274322  0.915312 -1.392227   \n",
      "Abl                 2.417753        0.247676  0.971115  0.255043   \n",
      "abo                 6.896915       -0.448926  0.599719 -0.748561   \n",
      "Acph-1             25.095476        0.559408  0.330849  1.690823   \n",
      "Act5C            2870.438224       -0.747988  0.127443 -5.869204   \n",
      "...                      ...             ...       ...       ...   \n",
      "rump               91.931591        0.779846  0.198635  3.926026   \n",
      "bl                 73.506158        0.423319  0.210207  2.013822   \n",
      "rgr                20.661165       -0.436310  0.392564 -1.111436   \n",
      "CR43174             2.621280       -1.031887  1.009347 -1.022331   \n",
      "CG32138            29.173007       -1.342221  0.366523 -3.662043   \n",
      "\n",
      "                       pvalue          padj  \n",
      "gene_short_name                              \n",
      "a                1.638538e-01           NaN  \n",
      "Abl              7.986899e-01           NaN  \n",
      "abo              4.541217e-01  6.963048e-01  \n",
      "Acph-1           9.087057e-02  2.552908e-01  \n",
      "Act5C            4.378924e-09  1.433891e-07  \n",
      "...                       ...           ...  \n",
      "rump             8.636074e-05  9.323737e-04  \n",
      "bl               4.402821e-02  1.508607e-01  \n",
      "rgr              2.663807e-01  5.162485e-01  \n",
      "CR43174          3.066242e-01           NaN  \n",
      "CG32138          2.502115e-04  2.363222e-03  \n",
      "\n",
      "[8106 rows x 6 columns]\n"
     ]
    },
    {
     "name": "stderr",
     "output_type": "stream",
     "text": [
      "... done in 1.75 seconds.\n",
      "\n"
     ]
    }
   ],
   "source": [
    "stat_res.summary()"
   ]
  },
  {
   "cell_type": "code",
   "execution_count": 11,
   "metadata": {},
   "outputs": [
    {
     "name": "stderr",
     "output_type": "stream",
     "text": [
      "Fitting MAP LFCs...\n"
     ]
    },
    {
     "name": "stdout",
     "output_type": "stream",
     "text": [
      "Shrunk log2 fold change & Wald test p-value: condition ScOE vs Ctrl\n",
      "                    baseMean  log2FoldChange     lfcSE      stat  \\\n",
      "gene_short_name                                                    \n",
      "a                   2.925245       -0.408488  0.696151 -1.392227   \n",
      "Abl                 2.417753        0.060599  0.640564  0.255043   \n",
      "abo                 6.896915       -0.212421  0.495491 -0.748561   \n",
      "Acph-1             25.095476        0.439094  0.321828  1.690823   \n",
      "Act5C            2870.438224       -0.725587  0.127192 -5.869204   \n",
      "...                      ...             ...       ...       ...   \n",
      "rump               91.931591        0.728542  0.198445  3.926026   \n",
      "bl                 73.506158        0.378020  0.207147  2.013822   \n",
      "rgr                20.661165       -0.301691  0.364716 -1.111436   \n",
      "CR43174             2.621280       -0.258831  0.660584 -1.022331   \n",
      "CG32138            29.173007       -1.183654  0.369672 -3.662043   \n",
      "\n",
      "                       pvalue          padj  \n",
      "gene_short_name                              \n",
      "a                1.638538e-01           NaN  \n",
      "Abl              7.986899e-01           NaN  \n",
      "abo              4.541217e-01  6.963048e-01  \n",
      "Acph-1           9.087057e-02  2.552908e-01  \n",
      "Act5C            4.378924e-09  1.433891e-07  \n",
      "...                       ...           ...  \n",
      "rump             8.636074e-05  9.323737e-04  \n",
      "bl               4.402821e-02  1.508607e-01  \n",
      "rgr              2.663807e-01  5.162485e-01  \n",
      "CR43174          3.066242e-01           NaN  \n",
      "CG32138          2.502115e-04  2.363222e-03  \n",
      "\n",
      "[8106 rows x 6 columns]\n"
     ]
    },
    {
     "name": "stderr",
     "output_type": "stream",
     "text": [
      "... done in 10.93 seconds.\n",
      "\n"
     ]
    }
   ],
   "source": [
    "stat_res.lfc_shrink(coeff=\"condition_ScOE_vs_Ctrl\")"
   ]
  },
  {
   "cell_type": "code",
   "execution_count": 12,
   "metadata": {},
   "outputs": [],
   "source": [
    "res = stat_res.results_df"
   ]
  },
  {
   "cell_type": "code",
   "execution_count": 13,
   "metadata": {},
   "outputs": [
    {
     "data": {
      "text/html": [
       "<div>\n",
       "<style scoped>\n",
       "    .dataframe tbody tr th:only-of-type {\n",
       "        vertical-align: middle;\n",
       "    }\n",
       "\n",
       "    .dataframe tbody tr th {\n",
       "        vertical-align: top;\n",
       "    }\n",
       "\n",
       "    .dataframe thead th {\n",
       "        text-align: right;\n",
       "    }\n",
       "</style>\n",
       "<table border=\"1\" class=\"dataframe\">\n",
       "  <thead>\n",
       "    <tr style=\"text-align: right;\">\n",
       "      <th></th>\n",
       "      <th>baseMean</th>\n",
       "      <th>log2FoldChange</th>\n",
       "      <th>lfcSE</th>\n",
       "      <th>stat</th>\n",
       "      <th>pvalue</th>\n",
       "      <th>padj</th>\n",
       "    </tr>\n",
       "    <tr>\n",
       "      <th>gene_short_name</th>\n",
       "      <th></th>\n",
       "      <th></th>\n",
       "      <th></th>\n",
       "      <th></th>\n",
       "      <th></th>\n",
       "      <th></th>\n",
       "    </tr>\n",
       "  </thead>\n",
       "  <tbody>\n",
       "    <tr>\n",
       "      <th>a</th>\n",
       "      <td>2.925245</td>\n",
       "      <td>-0.408488</td>\n",
       "      <td>0.696151</td>\n",
       "      <td>-1.392227</td>\n",
       "      <td>1.638538e-01</td>\n",
       "      <td>NaN</td>\n",
       "    </tr>\n",
       "    <tr>\n",
       "      <th>Abl</th>\n",
       "      <td>2.417753</td>\n",
       "      <td>0.060599</td>\n",
       "      <td>0.640564</td>\n",
       "      <td>0.255043</td>\n",
       "      <td>7.986899e-01</td>\n",
       "      <td>NaN</td>\n",
       "    </tr>\n",
       "    <tr>\n",
       "      <th>abo</th>\n",
       "      <td>6.896915</td>\n",
       "      <td>-0.212421</td>\n",
       "      <td>0.495491</td>\n",
       "      <td>-0.748561</td>\n",
       "      <td>4.541217e-01</td>\n",
       "      <td>6.963048e-01</td>\n",
       "    </tr>\n",
       "    <tr>\n",
       "      <th>Acph-1</th>\n",
       "      <td>25.095476</td>\n",
       "      <td>0.439094</td>\n",
       "      <td>0.321828</td>\n",
       "      <td>1.690823</td>\n",
       "      <td>9.087057e-02</td>\n",
       "      <td>2.552908e-01</td>\n",
       "    </tr>\n",
       "    <tr>\n",
       "      <th>Act5C</th>\n",
       "      <td>2870.438224</td>\n",
       "      <td>-0.725587</td>\n",
       "      <td>0.127192</td>\n",
       "      <td>-5.869204</td>\n",
       "      <td>4.378924e-09</td>\n",
       "      <td>1.433891e-07</td>\n",
       "    </tr>\n",
       "    <tr>\n",
       "      <th>...</th>\n",
       "      <td>...</td>\n",
       "      <td>...</td>\n",
       "      <td>...</td>\n",
       "      <td>...</td>\n",
       "      <td>...</td>\n",
       "      <td>...</td>\n",
       "    </tr>\n",
       "    <tr>\n",
       "      <th>rump</th>\n",
       "      <td>91.931591</td>\n",
       "      <td>0.728542</td>\n",
       "      <td>0.198445</td>\n",
       "      <td>3.926026</td>\n",
       "      <td>8.636074e-05</td>\n",
       "      <td>9.323737e-04</td>\n",
       "    </tr>\n",
       "    <tr>\n",
       "      <th>bl</th>\n",
       "      <td>73.506158</td>\n",
       "      <td>0.378020</td>\n",
       "      <td>0.207147</td>\n",
       "      <td>2.013822</td>\n",
       "      <td>4.402821e-02</td>\n",
       "      <td>1.508607e-01</td>\n",
       "    </tr>\n",
       "    <tr>\n",
       "      <th>rgr</th>\n",
       "      <td>20.661165</td>\n",
       "      <td>-0.301691</td>\n",
       "      <td>0.364716</td>\n",
       "      <td>-1.111436</td>\n",
       "      <td>2.663807e-01</td>\n",
       "      <td>5.162485e-01</td>\n",
       "    </tr>\n",
       "    <tr>\n",
       "      <th>CR43174</th>\n",
       "      <td>2.621280</td>\n",
       "      <td>-0.258831</td>\n",
       "      <td>0.660584</td>\n",
       "      <td>-1.022331</td>\n",
       "      <td>3.066242e-01</td>\n",
       "      <td>NaN</td>\n",
       "    </tr>\n",
       "    <tr>\n",
       "      <th>CG32138</th>\n",
       "      <td>29.173007</td>\n",
       "      <td>-1.183654</td>\n",
       "      <td>0.369672</td>\n",
       "      <td>-3.662043</td>\n",
       "      <td>2.502115e-04</td>\n",
       "      <td>2.363222e-03</td>\n",
       "    </tr>\n",
       "  </tbody>\n",
       "</table>\n",
       "<p>8106 rows × 6 columns</p>\n",
       "</div>"
      ],
      "text/plain": [
       "                    baseMean  log2FoldChange     lfcSE      stat  \\\n",
       "gene_short_name                                                    \n",
       "a                   2.925245       -0.408488  0.696151 -1.392227   \n",
       "Abl                 2.417753        0.060599  0.640564  0.255043   \n",
       "abo                 6.896915       -0.212421  0.495491 -0.748561   \n",
       "Acph-1             25.095476        0.439094  0.321828  1.690823   \n",
       "Act5C            2870.438224       -0.725587  0.127192 -5.869204   \n",
       "...                      ...             ...       ...       ...   \n",
       "rump               91.931591        0.728542  0.198445  3.926026   \n",
       "bl                 73.506158        0.378020  0.207147  2.013822   \n",
       "rgr                20.661165       -0.301691  0.364716 -1.111436   \n",
       "CR43174             2.621280       -0.258831  0.660584 -1.022331   \n",
       "CG32138            29.173007       -1.183654  0.369672 -3.662043   \n",
       "\n",
       "                       pvalue          padj  \n",
       "gene_short_name                              \n",
       "a                1.638538e-01           NaN  \n",
       "Abl              7.986899e-01           NaN  \n",
       "abo              4.541217e-01  6.963048e-01  \n",
       "Acph-1           9.087057e-02  2.552908e-01  \n",
       "Act5C            4.378924e-09  1.433891e-07  \n",
       "...                       ...           ...  \n",
       "rump             8.636074e-05  9.323737e-04  \n",
       "bl               4.402821e-02  1.508607e-01  \n",
       "rgr              2.663807e-01  5.162485e-01  \n",
       "CR43174          3.066242e-01           NaN  \n",
       "CG32138          2.502115e-04  2.363222e-03  \n",
       "\n",
       "[8106 rows x 6 columns]"
      ]
     },
     "execution_count": 13,
     "metadata": {},
     "output_type": "execute_result"
    }
   ],
   "source": [
    "res"
   ]
  },
  {
   "cell_type": "code",
   "execution_count": 14,
   "metadata": {},
   "outputs": [
    {
     "data": {
      "text/plain": [
       "baseMean          7.841153\n",
       "log2FoldChange    3.292896\n",
       "lfcSE             0.903694\n",
       "stat              3.897415\n",
       "pvalue            0.000097\n",
       "padj              0.001034\n",
       "Name: CG9650, dtype: float64"
      ]
     },
     "execution_count": 14,
     "metadata": {},
     "output_type": "execute_result"
    }
   ],
   "source": [
    "res.loc['CG9650']"
   ]
  },
  {
   "cell_type": "code",
   "execution_count": 16,
   "metadata": {},
   "outputs": [],
   "source": [
    "res['score'] = -np.log10(res['pvalue'])\n",
    "res.to_csv('pydeseq2_results.csv')"
   ]
  },
  {
   "cell_type": "code",
   "execution_count": 22,
   "metadata": {},
   "outputs": [],
   "source": [
    "cph_expression = counts_df.loc[:, 'CG9650']\n",
    "cph_expression.name = 'CG9650 expression'\n",
    "cph_expression.to_csv('cph_expression.csv')"
   ]
  },
  {
   "cell_type": "code",
   "execution_count": 23,
   "metadata": {},
   "outputs": [
    {
     "data": {
      "text/plain": [
       "Ctrl_1     1.03973\n",
       "Ctrl_2     1.02800\n",
       "Ctrl_3     1.21887\n",
       "ScOE_1    12.61720\n",
       "ScOE_2    13.12310\n",
       "ScOE_3     9.24930\n",
       "ScOE_4    16.66960\n",
       "Name: CG9650 expression, dtype: float64"
      ]
     },
     "execution_count": 23,
     "metadata": {},
     "output_type": "execute_result"
    }
   ],
   "source": [
    "cph_expression"
   ]
  },
  {
   "cell_type": "markdown",
   "metadata": {},
   "source": [
    "# Plotting"
   ]
  },
  {
   "cell_type": "code",
   "execution_count": 24,
   "metadata": {},
   "outputs": [],
   "source": [
    "# Set plotting style\n",
    "from matplotlib import rcParams\n",
    "# Type 2/TrueType fonts\n",
    "rcParams['pdf.fonttype'] = 42\n",
    "rcParams['ps.fonttype'] = 42\n",
    "# Arial font\n",
    "rcParams['font.sans-serif'] = \"Arial\"\n",
    "rcParams['font.family'] = \"sans-serif\""
   ]
  },
  {
   "cell_type": "code",
   "execution_count": 25,
   "metadata": {},
   "outputs": [],
   "source": [
    "res = pd.read_csv('pydeseq2_results.csv', index_col=0)"
   ]
  },
  {
   "cell_type": "code",
   "execution_count": 26,
   "metadata": {},
   "outputs": [
    {
     "data": {
      "image/png": "[encoded data removed]",
      "text/plain": [
       "<Figure size 640x480 with 1 Axes>"
      ]
     },
     "metadata": {},
     "output_type": "display_data"
    }
   ],
   "source": [
    "with sns.axes_style('whitegrid'):\n",
    "    sns.scatterplot(data=res, y='score', x='log2FoldChange')\n",
    "pv = np.round(res.loc['CG9650']['pvalue'], 5)\n",
    "pl.title(f\"Chen et al. Reanalysis\\nScOE vs Ctrl\\nCph p-val={pv}\", fontdict=dict(fontsize=14))\n",
    "pl.axvline(0, color='black', linestyle='--')\n",
    "pl.xlim(-15, 15)\n",
    "pl.ylabel('-log10(p-value)')\n",
    "sns.scatterplot(data=res.loc[['CG9650']], y='score', x='log2FoldChange', ax=pl.gca(), color='red')\n",
    "x,y = res.loc['CG9650'][['log2FoldChange', 'score']]\n",
    "pl.annotate('CG9650\\naka Cph', (x,y), xytext=(x+7, y+10), arrowprops=dict(facecolor='black', shrink=0.05))\n",
    "pl.savefig('pydeseq2_volcano.pdf', bbox_inches='tight')\n",
    "pl.show()"
   ]
  },
  {
   "cell_type": "code",
   "execution_count": 50,
   "metadata": {},
   "outputs": [
    {
     "name": "stdout",
     "output_type": "stream",
     "text": [
      "p-value annotation legend:\n",
      "      ns: 5.00e-02 < p <= 1.00e+00\n",
      "       *: 1.00e-02 < p <= 5.00e-02\n",
      "      **: 1.00e-03 < p <= 1.00e-02\n",
      "     ***: 1.00e-04 < p <= 1.00e-03\n",
      "    ****: p <= 1.00e-04\n",
      "\n",
      "Ctrl vs. ScOE: adj. p-value=0.00103\n"
     ]
    },
    {
     "data": {
      "image/png": "[encoded data removed]",
      "text/plain": [
       "<Figure size 640x480 with 1 Axes>"
      ]
     },
     "metadata": {},
     "output_type": "display_data"
    }
   ],
   "source": [
    "data = counts_df.reset_index()\n",
    "data['condition'] = data['index'].str.split('_').str[0]\n",
    "\n",
    "with sns.axes_style('whitegrid'):\n",
    "    fig, ax = pl.subplots()\n",
    "sns.barplot(data=data, x='condition', y='CG9650', ax=ax)\n",
    "sns.swarmplot(data=data, x='condition', y='CG9650', color='black', ax=ax)\n",
    "\n",
    "# padj = res.loc['CG9650']['padj']\n",
    "# annotator = Annotator(data=data, x='condition', y='CG9650', ax=ax, pairs=[('Ctrl', 'ScOE')])\n",
    "# annotator.set_custom_annotations(['adj. p-value=%.5f' % padj])\n",
    "# annotator.annotate()\n",
    "\n",
    "pl.xticks([0,1], labels=['Control', 'Scute Overexpression'])\n",
    "pl.ylabel('CG9650 expression')\n",
    "pl.savefig('pydeseq2_expression.pdf', bbox_inches='tight')\n",
    "pl.show()"
   ]
  },
  {
   "cell_type": "code",
   "execution_count": null,
   "metadata": {},
   "outputs": [],
   "source": []
  },
  {
   "cell_type": "code",
   "execution_count": null,
   "metadata": {},
   "outputs": [],
   "source": []
  },
  {
   "cell_type": "code",
   "execution_count": null,
   "metadata": {},
   "outputs": [],
   "source": []
  },
  {
   "cell_type": "code",
   "execution_count": null,
   "metadata": {},
   "outputs": [],
   "source": []
  },
  {
   "cell_type": "code",
   "execution_count": 72,
   "metadata": {},
   "outputs": [],
   "source": []
  },
  {
   "cell_type": "code",
   "execution_count": null,
   "metadata": {},
   "outputs": [],
   "source": []
  }
 ],
 "metadata": {
  "kernelspec": {
   "display_name": "sc_env",
   "language": "python",
   "name": "python3"
  },
  "language_info": {
   "codemirror_mode": {
    "name": "ipython",
    "version": 3
   },
   "file_extension": ".py",
   "mimetype": "text/x-python",
   "name": "python",
   "nbconvert_exporter": "python",
   "pygments_lexer": "ipython3",
   "version": "3.11.5"
  }
 },
 "nbformat": 4,
 "nbformat_minor": 2
}
