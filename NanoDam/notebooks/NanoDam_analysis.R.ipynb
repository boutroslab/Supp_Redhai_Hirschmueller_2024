{
 "cells": [
  {
   "cell_type": "markdown",
   "metadata": {},
   "source": [
    "# ChIPseeker"
   ]
  },
  {
   "cell_type": "code",
   "execution_count": 1,
   "metadata": {
    "vscode": {
     "languageId": "r"
    }
   },
   "outputs": [],
   "source": [
    "## loading packages\n",
    "suppressPackageStartupMessages({\n",
    "  library(ChIPseeker)\n",
    "  library(TxDb.Dmelanogaster.UCSC.dm6.ensGene)\n",
    "  library(clusterProfiler)\n",
    "})"
   ]
  },
  {
   "cell_type": "code",
   "execution_count": 2,
   "metadata": {
    "vscode": {
     "languageId": "r"
    }
   },
   "outputs": [],
   "source": [
    "# Load contrasted peaks from MACS2\n",
    "peak <- readPeakFile(\"../results/diffbind/diffbind_results.tsv\")\n",
    "seqlevelsStyle(peak) <- \"UCSC\"  # e.g. \"chr2R\" -> \"2R\""
   ]
  },
  {
   "cell_type": "code",
   "execution_count": 3,
   "metadata": {
    "vscode": {
     "languageId": "r"
    }
   },
   "outputs": [],
   "source": [
    "# Set database for genome annotation\n",
    "txdb <- TxDb.Dmelanogaster.UCSC.dm6.ensGene"
   ]
  },
  {
   "cell_type": "code",
   "execution_count": 4,
   "metadata": {
    "vscode": {
     "languageId": "r"
    }
   },
   "outputs": [
    {
     "name": "stdout",
     "output_type": "stream",
     "text": [
      ">> preparing start_site regions by gene... 2024-08-20 14:33:24\n",
      ">> preparing tag matrix...  2024-08-20 14:33:24 \n"
     ]
    },
    {
     "name": "stderr",
     "output_type": "stream",
     "text": [
      "Warning message in .merge_two_Seqinfo_objects(x, y):\n",
      "“Each of the 2 combined objects has sequence levels not in the other:\n",
      "  - in 'x': chrM, chrX_CP007103v1_random, chrX_CP007104v1_random, chrX_DS483648v1_random, chrX_DS483655v1_random, chrX_DS483660v1_random, chrX_DS483665v1_random, chrX_DS483666v1_random, chrX_DS483669v1_random, chrX_DS483685v1_random, chrX_DS483698v1_random, chrX_DS483745v1_random, chrX_DS483784v1_random, chrX_DS483789v1_random, chrX_DS483795v1_random, chrX_DS483803v1_random, chrX_DS483809v1_random, chrX_DS483818v1_random, chrX_DS483821v1_random, chrX_DS483843v1_random, chrX_DS483851v1_random, chrX_DS483885v1_random, chrX_DS483888v1_random, chrX_DS483892v1_random, chrX_DS483893v1_random, chrX_DS483897v1_random, chrX_DS483903v1_random, chrX_DS483905v1_random, chrX_DS483907v1_random, chrX_DS483909v1_random, chrX_DS483923v1_random, chrX_DS483926v1_random, chrX_DS483928v1_random, chrX_DS483946v1_random, chrX_DS483948v1_random, chrX_DS483950v1_random, chrX_DS483955v1_random, chrX_DS483963v1_random, chrX_DS483969v1_random, chrX_DS483971v1_random, chrX_DS483974v1_random, chrX_DS483995v1_random, chrX_DS484002v1_random, chrX_DS484005v1_random, chrX_DS484012v1_random, chrX_DS484023v1_random, chrX_DS484026v1_random, chrX_DS484046v1_random, chrX_DS484051v1_random, chrX_DS484057v1_random, chrX_DS484060v1_random, chrX_DS484061v1_random, chrX_DS484067v1_random, chrX_DS484072v1_random, chrX_DS484074v1_random, chrX_DS484075v1_random, chrX_DS484081v1_random, chrX_DS484084v1_random, chrX_DS484085v1_random, chrX_DS484088v1_random, chrX_DS484099v1_random, chrX_DS484101v1_random, chrX_DS484112v1_random, chrX_DS484114v1_random, chrX_DS484124v1_random, chrX_DS484125v1_random, chrX_DS484126v1_random, chrX_DS484130v1_random, chrX_DS484131v1_random, chrX_DS484132v1_random, chrX_DS484133v1_random, chrX_DS484135v1_random, chrX_DS484136v1_random, chrX_DS484137v1_random, chrX_DS484140v1_random, chrX_DS484143v1_random, chrX_DS484161v1_random, chrX_DS484162v1_random, chrX_DS484165v1_random, chrX_DS484166v1_random, chrX_DS484178v1_random, chrX_DS484182v1_random, chrX_DS484185v1_random, chrX_DS484187v1_random, chrX_DS484198v1_random, chrX_DS484200v1_random, chrX_DS484201v1_random, chrX_DS484203v1_random, chrX_DS484215v1_random, chrX_DS484216v1_random, chrX_DS484219v1_random, chrX_DS484235v1_random, chrX_DS484252v1_random, chrX_DS484260v1_random, chrX_DS484261v1_random, chrX_DS484268v1_random, chrX_DS484272v1_random, chrX_DS484273v1_random, chrX_DS484278v1_random, chrX_DS484284v1_random, chrX_DS484288v1_random, chrX_DS484293v1_random, chrX_DS484297v1_random, chrX_DS484298v1_random, chrX_DS484305v1_random, chrX_DS484316v1_random, chrX_DS484319v1_random, chrX_DS484322v1_random, chrX_DS484323v1_random, chrX_DS484326v1_random, chrX_DS484328v1_random, chrX_DS484330v1_random, chrX_DS484337v1_random, chrX_DS484341v1_random, chrX_DS484344v1_random, chrX_DS484345v1_random, chrX_DS484346v1_random, chrX_DS484349v1_random, chrX_DS484354v1_random, chrX_DS484356v1_random, chrX_DS484357v1_random, chrX_DS484358v1_random, chrX_DS484359v1_random, chrX_DS484360v1_random, chrX_DS484361v1_random, chrX_DS484362v1_random, chrX_DS484364v1_random, chrX_DS484367v1_random, chrX_DS484368v1_random, chrX_DS484371v1_random, chrX_DS484374v1_random, chrX_DS484379v1_random, chrX_DS484382v1_random, chrX_DS484384v1_random, chrX_DS484387v1_random, chrX_DS484388v1_random, chrX_DS484393v1_random, chrX_DS484397v1_random, chrX_DS484399v1_random, chrX_DS484401v1_random, chrX_DS484402v1_random, chrX_DS484406v1_random, chrX_DS484409v1_random, chrX_DS484411v1_random, chrX_DS484415v1_random, chrX_DS484417v1_random, chrX_DS484419v1_random, chrX_DS484423v1_random, chrX_DS484428v1_random, chrX_DS484429v1_random, chrX_DS484430v1_random, chrX_DS484431v1_random, chrX_DS484433v1_random, chrX_DS484442v1_random, chrX_DS484444v1_random, chrX_DS484447v1_random, chrX_DS484450v1_random, chrX_DS484457v1_random, chrX_DS484459v1_random, chrX_DS484462v1_random, chrX_DS484468v1_random, chrX_DS484474v1_random, chrX_DS484477v1_random, chrX_DS484483v1_random, chrX_DS484488v1_random, chrX_DS484497v1_random, chrX_DS484500v1_random, chrX_DS484504v1_random, chrX_DS484506v1_random, chrX_DS484507v1_random, chrX_DS484512v1_random, chrX_DS484518v1_random, chrX_DS484519v1_random, chrX_DS484526v1_random, chrX_DS484529v1_random, chrX_DS484533v1_random, chrX_DS484535v1_random, chrX_DS484538v1_random, chrX_DS484540v1_random, chrX_DS484541v1_random, chrX_DS484545v1_random, chrX_DS484547v1_random, chrX_DS484552v1_random, chrX_DS484555v1_random, chrX_DS484556v1_random, chrX_DS484558v1_random, chrX_DS484560v1_random, chrX_DS484562v1_random, chrX_DS484563v1_random, chrX_DS484564v1_random, chrX_DS484568v1_random, chrX_DS484569v1_random, chrX_DS484570v1_random, chrX_DS484572v1_random, chrX_DS484576v1_random, chrX_DS484580v1_random, chrX_DS484582v1_random, chrX_DS484583v1_random, chrX_DS484585v1_random, chrX_DS484586v1_random, chrX_DS484587v1_random, chrX_DS484590v1_random, chrX_DS484594v1_random, chrX_DS484596v1_random, chrX_DS484597v1_random, chrX_DS484598v1_random, chrX_DS484599v1_random, chrX_DS484600v1_random, chrX_DS484603v1_random, chrX_DS484604v1_random, chrX_DS484605v1_random, chrX_DS484608v1_random, chrX_DS484609v1_random, chrX_DS484610v1_random, chrX_DS484611v1_random, chrX_DS484615v1_random, chrX_DS484618v1_random, chrX_DS484620v1_random, chrX_DS484622v1_random, chrX_DS484623v1_random, chrX_DS484625v1_random, chrX_DS484626v1_random, chrX_DS484628v1_random, chrX_DS484633v1_random, chrX_DS484636v1_random, chrX_DS484644v1_random, chrX_DS484645v1_random, chrX_DS484647v1_random, chrX_DS484648v1_random, chrX_DS484650v1_random, chrX_DS484657v1_random, chrX_DS484660v1_random, chrX_DS484664v1_random, chrX_DS484666v1_random, chrX_DS484668v1_random, chrX_DS484669v1_random, chrX_DS484670v1_random, chrX_DS484672v1_random, chrX_DS484677v1_random, chrX_DS484679v1_random, chrX_DS484682v1_random, chrX_DS484683v1_random, chrX_DS484684v1_random, chrX_DS484688v1_random, chrX_DS484690v1_random, chrX_DS484691v1_random, chrX_DS484694v1_random, chrX_DS484695v1_random, chrX_DS484697v1_random, chrX_DS484698v1_random, chrX_DS484701v1_random, chrX_DS484702v1_random, chrX_DS484703v1_random, chrX_DS484715v1_random, chrX_DS484719v1_random, chrX_DS484723v1_random, chrX_DS484724v1_random, chrX_DS484725v1_random, chrX_DS484730v1_random, chrX_DS484731v1_random, chrX_DS484732v1_random, chrX_DS484733v1_random, chrX_DS484737v1_random, chrX_DS484740v1_random, chrX_DS484741v1_random, chrX_DS484745v1_random, chrX_DS484749v1_random, chrX_DS484753v1_random, chrX_DS484758v1_random, chrX_DS484763v1_random, chrX_DS484765v1_random, chrX_DS484767v1_random, chrX_DS484768v1_random, chrX_DS484775v1_random, chrX_DS484777v1_random, chrX_DS484778v1_random, chrX_DS484783v1_random, chrX_DS484785v1_random, chrX_DS484786v1_random, chrX_DS484803v1_random, chrX_DS484809v1_random, chrX_DS484810v1_random, chrX_DS484811v1_random, chrX_DS484819v1_random, chrX_DS484826v1_random, chrX_DS484832v1_random, chrX_DS484833v1_random, chrX_DS484837v1_random, chrX_DS484839v1_random, chrX_DS484840v1_random, chrX_DS484845v1_random, chrX_DS484850v1_random, chrX_DS484857v1_random, chrX_DS484871v1_random, chrX_DS484879v1_random, chrX_DS484880v1_random, chrX_DS484890v1_random, chrX_DS484907v1_random, chrX_DS484911v1_random, chrX_DS484913v1_random, chrX_DS484928v1_random, chrX_DS484935v1_random, chrX_DS484951v1_random, chrX_DS484952v1_random, chrX_DS484953v1_random, chrX_DS484955v1_random, chrX_DS484961v1_random, chrX_DS484963v1_random, chrX_DS484965v1_random, chrX_DS484968v1_random, chrX_DS484970v1_random, chrX_DS484974v1_random, chrX_DS484978v1_random, chrX_DS484990v1_random, chrX_DS484995v1_random, chrX_DS484996v1_random, chrX_DS484997v1_random, chrX_DS485012v1_random, chrX_DS485015v1_random, chrX_DS485017v1_random, chrX_DS485043v1_random, chrX_DS485044v1_random, chrX_DS485049v1_random, chrX_DS485050v1_random, chrX_DS485054v1_random, chrX_DS485072v1_random, chrX_DS485074v1_random, chrX_DS485077v1_random, chrX_DS485078v1_random, chrX_DS485080v1_random, chrX_DS485081v1_random, chrX_DS485084v1_random, chrX_DS485096v1_random, chrX_DS485101v1_random, chrX_DS485104v1_random, chrX_DS485109v1_random, chrX_DS485110v1_random, chrX_DS485111v1_random, chrX_DS485112v1”\n"
     ]
    }
   ],
   "source": [
    "# Define TSS regions (takes ca 30sec)\n",
    "promoter <- getPromoters(TxDb=txdb, upstream=3000, downstream=3000)\n",
    "tagMatrix <- getTagMatrix(peak, windows=promoter)"
   ]
  },
  {
   "cell_type": "code",
   "execution_count": 5,
   "metadata": {
    "vscode": {
     "languageId": "r"
    }
   },
   "outputs": [
    {
     "name": "stdout",
     "output_type": "stream",
     "text": [
      ">> preparing features information...\t\t 2024-08-20 14:33:40 \n",
      ">> identifying nearest features...\t\t 2024-08-20 14:33:40 \n"
     ]
    },
    {
     "name": "stderr",
     "output_type": "stream",
     "text": [
      "Warning message in .merge_two_Seqinfo_objects(x, y):\n",
      "“Each of the 2 combined objects has sequence levels not in the other:\n",
      "  - in 'x': M\n",
      "  - in 'y': chrM, chrX_CP007103v1_random, chrX_CP007104v1_random, chrX_DS483648v1_random, chrX_DS483655v1_random, chrX_DS483660v1_random, chrX_DS483665v1_random, chrX_DS483666v1_random, chrX_DS483669v1_random, chrX_DS483685v1_random, chrX_DS483698v1_random, chrX_DS483745v1_random, chrX_DS483784v1_random, chrX_DS483789v1_random, chrX_DS483795v1_random, chrX_DS483803v1_random, chrX_DS483809v1_random, chrX_DS483818v1_random, chrX_DS483821v1_random, chrX_DS483843v1_random, chrX_DS483851v1_random, chrX_DS483885v1_random, chrX_DS483888v1_random, chrX_DS483892v1_random, chrX_DS483893v1_random, chrX_DS483897v1_random, chrX_DS483903v1_random, chrX_DS483905v1_random, chrX_DS483907v1_random, chrX_DS483909v1_random, chrX_DS483923v1_random, chrX_DS483926v1_random, chrX_DS483928v1_random, chrX_DS483946v1_random, chrX_DS483948v1_random, chrX_DS483950v1_random, chrX_DS483955v1_random, chrX_DS483963v1_random, chrX_DS483969v1_random, chrX_DS483971v1_random, chrX_DS483974v1_random, chrX_DS483995v1_random, chrX_DS484002v1_random, chrX_DS484005v1_random, chrX_DS484012v1_random, chrX_DS484023v1_random, chrX_DS484026v1_random, chrX_DS484046v1_random, chrX_DS484051v1_random, chrX_DS484057v1_random, chrX_DS484060v1_random, chrX_DS484061v1_random, chrX_DS484067v1_random, chrX_DS484072v1_random, chrX_DS484074v1_random, chrX_DS484075v1_random, chrX_DS484081v1_random, chrX_DS484084v1_random, chrX_DS484085v1_random, chrX_DS484088v1_random, chrX_DS484099v1_random, chrX_DS484101v1_random, chrX_DS484112v1_random, chrX_DS484114v1_random, chrX_DS484124v1_random, chrX_DS484125v1_random, chrX_DS484126v1_random, chrX_DS484130v1_random, chrX_DS484131v1_random, chrX_DS484132v1_random, chrX_DS484133v1_random, chrX_DS484135v1_random, chrX_DS484136v1_random, chrX_DS484137v1_random, chrX_DS484140v1_random, chrX_DS484143v1_random, chrX_DS484161v1_random, chrX_DS484162v1_random, chrX_DS484165v1_random, chrX_DS484166v1_random, chrX_DS484178v1_random, chrX_DS484182v1_random, chrX_DS484185v1_random, chrX_DS484187v1_random, chrX_DS484198v1_random, chrX_DS484200v1_random, chrX_DS484201v1_random, chrX_DS484203v1_random, chrX_DS484215v1_random, chrX_DS484216v1_random, chrX_DS484219v1_random, chrX_DS484235v1_random, chrX_DS484252v1_random, chrX_DS484260v1_random, chrX_DS484261v1_random, chrX_DS484268v1_random, chrX_DS484272v1_random, chrX_DS484273v1_random, chrX_DS484278v1_random, chrX_DS484284v1_random, chrX_DS484288v1_random, chrX_DS484293v1_random, chrX_DS484297v1_random, chrX_DS484298v1_random, chrX_DS484305v1_random, chrX_DS484316v1_random, chrX_DS484319v1_random, chrX_DS484322v1_random, chrX_DS484323v1_random, chrX_DS484326v1_random, chrX_DS484328v1_random, chrX_DS484330v1_random, chrX_DS484337v1_random, chrX_DS484341v1_random, chrX_DS484344v1_random, chrX_DS484345v1_random, chrX_DS484346v1_random, chrX_DS484349v1_random, chrX_DS484354v1_random, chrX_DS484356v1_random, chrX_DS484357v1_random, chrX_DS484358v1_random, chrX_DS484359v1_random, chrX_DS484360v1_random, chrX_DS484361v1_random, chrX_DS484362v1_random, chrX_DS484364v1_random, chrX_DS484367v1_random, chrX_DS484368v1_random, chrX_DS484371v1_random, chrX_DS484374v1_random, chrX_DS484379v1_random, chrX_DS484382v1_random, chrX_DS484384v1_random, chrX_DS484387v1_random, chrX_DS484388v1_random, chrX_DS484393v1_random, chrX_DS484397v1_random, chrX_DS484399v1_random, chrX_DS484401v1_random, chrX_DS484402v1_random, chrX_DS484406v1_random, chrX_DS484409v1_random, chrX_DS484411v1_random, chrX_DS484415v1_random, chrX_DS484417v1_random, chrX_DS484419v1_random, chrX_DS484423v1_random, chrX_DS484428v1_random, chrX_DS484429v1_random, chrX_DS484430v1_random, chrX_DS484431v1_random, chrX_DS484433v1_random, chrX_DS484442v1_random, chrX_DS484444v1_random, chrX_DS484447v1_random, chrX_DS484450v1_random, chrX_DS484457v1_random, chrX_DS484459v1_random, chrX_DS484462v1_random, chrX_DS484468v1_random, chrX_DS484474v1_random, chrX_DS484477v1_random, chrX_DS484483v1_random, chrX_DS484488v1_random, chrX_DS484497v1_random, chrX_DS484500v1_random, chrX_DS484504v1_random, chrX_DS484506v1_random, chrX_DS484507v1_random, chrX_DS484512v1_random, chrX_DS484518v1_random, chrX_DS484519v1_random, chrX_DS484526v1_random, chrX_DS484529v1_random, chrX_DS484533v1_random, chrX_DS484535v1_random, chrX_DS484538v1_random, chrX_DS484540v1_random, chrX_DS484541v1_random, chrX_DS484545v1_random, chrX_DS484547v1_random, chrX_DS484552v1_random, chrX_DS484555v1_random, chrX_DS484556v1_random, chrX_DS484558v1_random, chrX_DS484560v1_random, chrX_DS484562v1_random, chrX_DS484563v1_random, chrX_DS484564v1_random, chrX_DS484568v1_random, chrX_DS484569v1_random, chrX_DS484570v1_random, chrX_DS484572v1_random, chrX_DS484576v1_random, chrX_DS484580v1_random, chrX_DS484582v1_random, chrX_DS484583v1_random, chrX_DS484585v1_random, chrX_DS484586v1_random, chrX_DS484587v1_random, chrX_DS484590v1_random, chrX_DS484594v1_random, chrX_DS484596v1_random, chrX_DS484597v1_random, chrX_DS484598v1_random, chrX_DS484599v1_random, chrX_DS484600v1_random, chrX_DS484603v1_random, chrX_DS484604v1_random, chrX_DS484605v1_random, chrX_DS484608v1_random, chrX_DS484609v1_random, chrX_DS484610v1_random, chrX_DS484611v1_random, chrX_DS484615v1_random, chrX_DS484618v1_random, chrX_DS484620v1_random, chrX_DS484622v1_random, chrX_DS484623v1_random, chrX_DS484625v1_random, chrX_DS484626v1_random, chrX_DS484628v1_random, chrX_DS484633v1_random, chrX_DS484636v1_random, chrX_DS484644v1_random, chrX_DS484645v1_random, chrX_DS484647v1_random, chrX_DS484648v1_random, chrX_DS484650v1_random, chrX_DS484657v1_random, chrX_DS484660v1_random, chrX_DS484664v1_random, chrX_DS484666v1_random, chrX_DS484668v1_random, chrX_DS484669v1_random, chrX_DS484670v1_random, chrX_DS484672v1_random, chrX_DS484677v1_random, chrX_DS484679v1_random, chrX_DS484682v1_random, chrX_DS484683v1_random, chrX_DS484684v1_random, chrX_DS484688v1_random, chrX_DS484690v1_random, chrX_DS484691v1_random, chrX_DS484694v1_random, chrX_DS484695v1_random, chrX_DS484697v1_random, chrX_DS484698v1_random, chrX_DS484701v1_random, chrX_DS484702v1_random, chrX_DS484703v1_random, chrX_DS484715v1_random, chrX_DS484719v1_random, chrX_DS484723v1_random, chrX_DS484724v1_random, chrX_DS484725v1_random, chrX_DS484730v1_random, chrX_DS484731v1_random, chrX_DS484732v1_random, chrX_DS484733v1_random, chrX_DS484737v1_random, chrX_DS484740v1_random, chrX_DS484741v1_random, chrX_DS484745v1_random, chrX_DS484749v1_random, chrX_DS484753v1_random, chrX_DS484758v1_random, chrX_DS484763v1_random, chrX_DS484765v1_random, chrX_DS484767v1_random, chrX_DS484768v1_random, chrX_DS484775v1_random, chrX_DS484777v1_random, chrX_DS484778v1_random, chrX_DS484783v1_random, chrX_DS484785v1_random, chrX_DS484786v1_random, chrX_DS484803v1_random, chrX_DS484809v1_random, chrX_DS484810v1_random, chrX_DS484811v1_random, chrX_DS484819v1_random, chrX_DS484826v1_random, chrX_DS484832v1_random, chrX_DS484833v1_random, chrX_DS484837v1_random, chrX_DS484839v1_random, chrX_DS484840v1_random, chrX_DS484845v1_random, chrX_DS484850v1_random, chrX_DS484857v1_random, chrX_DS484871v1_random, chrX_DS484879v1_random, chrX_DS484880v1_random, chrX_DS484890v1_random, chrX_DS484907v1_random, chrX_DS484911v1_random, chrX_DS484913v1_random, chrX_DS484928v1_random, chrX_DS484935v1_random, chrX_DS484951v1_random, chrX_DS484952v1_random, chrX_DS484953v1_random, chrX_DS484955v1_random, chrX_DS484961v1_random, chrX_DS484963v1_random, chrX_DS484965v1_random, chrX_DS484968v1_random, chrX_DS484970v1_random, chrX_DS484974v1_random, chrX_DS484978v1_random, chrX_DS484990v1_random, chrX_DS484995v1_random, chrX_DS484996v1_random, chrX_DS484997v1_random, chrX_DS485012v1_random, chrX_DS485015v1_random, chrX_DS485017v1_random, chrX_DS485043v1_random, chrX_DS485044v1_random, chrX_DS485049v1_random, chrX_DS485050v1_random, chrX_DS485054v1_random, chrX_DS485072v1_random, chrX_DS485074v1_random, chrX_DS485077v1_random, chrX_DS485078v1_random, chrX_DS485080v1_random, chrX_DS485081v1_random, chrX_DS485084v1_random, chrX_DS485096v1_random, chrX_DS485101v1_random, chrX_DS485104v1_random, chrX_DS485109v1_random, chrX_DS485110v1_random, chrX_DS485111v1_random, c”\n"
     ]
    },
    {
     "name": "stdout",
     "output_type": "stream",
     "text": [
      ">> calculating distance from peak to TSS...\t 2024-08-20 14:33:40 \n",
      ">> assigning genomic annotation...\t\t 2024-08-20 14:33:40 \n"
     ]
    },
    {
     "name": "stderr",
     "output_type": "stream",
     "text": [
      "Warning message in .merge_two_Seqinfo_objects(x, y):\n",
      "“Each of the 2 combined objects has sequence levels not in the other:\n",
      "  - in 'x': M\n",
      "  - in 'y': chrM, chrX_CP007103v1_random, chrX_CP007104v1_random, chrX_DS483648v1_random, chrX_DS483655v1_random, chrX_DS483660v1_random, chrX_DS483665v1_random, chrX_DS483666v1_random, chrX_DS483669v1_random, chrX_DS483685v1_random, chrX_DS483698v1_random, chrX_DS483745v1_random, chrX_DS483784v1_random, chrX_DS483789v1_random, chrX_DS483795v1_random, chrX_DS483803v1_random, chrX_DS483809v1_random, chrX_DS483818v1_random, chrX_DS483821v1_random, chrX_DS483843v1_random, chrX_DS483851v1_random, chrX_DS483885v1_random, chrX_DS483888v1_random, chrX_DS483892v1_random, chrX_DS483893v1_random, chrX_DS483897v1_random, chrX_DS483903v1_random, chrX_DS483905v1_random, chrX_DS483907v1_random, chrX_DS483909v1_random, chrX_DS483923v1_random, chrX_DS483926v1_random, chrX_DS483928v1_random, chrX_DS483946v1_random, chrX_DS483948v1_random, chrX_DS483950v1_random, chrX_DS483955v1_random, chrX_DS483963v1_random, chrX_DS483969v1_random, chrX_DS483971v1_random, chrX_DS483974v1_random, chrX_DS483995v1_random, chrX_DS484002v1_random, chrX_DS484005v1_random, chrX_DS484012v1_random, chrX_DS484023v1_random, chrX_DS484026v1_random, chrX_DS484046v1_random, chrX_DS484051v1_random, chrX_DS484057v1_random, chrX_DS484060v1_random, chrX_DS484061v1_random, chrX_DS484067v1_random, chrX_DS484072v1_random, chrX_DS484074v1_random, chrX_DS484075v1_random, chrX_DS484081v1_random, chrX_DS484084v1_random, chrX_DS484085v1_random, chrX_DS484088v1_random, chrX_DS484099v1_random, chrX_DS484101v1_random, chrX_DS484112v1_random, chrX_DS484114v1_random, chrX_DS484124v1_random, chrX_DS484125v1_random, chrX_DS484126v1_random, chrX_DS484130v1_random, chrX_DS484131v1_random, chrX_DS484132v1_random, chrX_DS484133v1_random, chrX_DS484135v1_random, chrX_DS484136v1_random, chrX_DS484137v1_random, chrX_DS484140v1_random, chrX_DS484143v1_random, chrX_DS484161v1_random, chrX_DS484162v1_random, chrX_DS484165v1_random, chrX_DS484166v1_random, chrX_DS484178v1_random, chrX_DS484182v1_random, chrX_DS484185v1_random, chrX_DS484187v1_random, chrX_DS484198v1_random, chrX_DS484200v1_random, chrX_DS484201v1_random, chrX_DS484203v1_random, chrX_DS484215v1_random, chrX_DS484216v1_random, chrX_DS484219v1_random, chrX_DS484235v1_random, chrX_DS484252v1_random, chrX_DS484260v1_random, chrX_DS484261v1_random, chrX_DS484268v1_random, chrX_DS484272v1_random, chrX_DS484273v1_random, chrX_DS484278v1_random, chrX_DS484284v1_random, chrX_DS484288v1_random, chrX_DS484293v1_random, chrX_DS484297v1_random, chrX_DS484298v1_random, chrX_DS484305v1_random, chrX_DS484316v1_random, chrX_DS484319v1_random, chrX_DS484322v1_random, chrX_DS484323v1_random, chrX_DS484326v1_random, chrX_DS484328v1_random, chrX_DS484330v1_random, chrX_DS484337v1_random, chrX_DS484341v1_random, chrX_DS484344v1_random, chrX_DS484345v1_random, chrX_DS484346v1_random, chrX_DS484349v1_random, chrX_DS484354v1_random, chrX_DS484356v1_random, chrX_DS484357v1_random, chrX_DS484358v1_random, chrX_DS484359v1_random, chrX_DS484360v1_random, chrX_DS484361v1_random, chrX_DS484362v1_random, chrX_DS484364v1_random, chrX_DS484367v1_random, chrX_DS484368v1_random, chrX_DS484371v1_random, chrX_DS484374v1_random, chrX_DS484379v1_random, chrX_DS484382v1_random, chrX_DS484384v1_random, chrX_DS484387v1_random, chrX_DS484388v1_random, chrX_DS484393v1_random, chrX_DS484397v1_random, chrX_DS484399v1_random, chrX_DS484401v1_random, chrX_DS484402v1_random, chrX_DS484406v1_random, chrX_DS484409v1_random, chrX_DS484411v1_random, chrX_DS484415v1_random, chrX_DS484417v1_random, chrX_DS484419v1_random, chrX_DS484423v1_random, chrX_DS484428v1_random, chrX_DS484429v1_random, chrX_DS484430v1_random, chrX_DS484431v1_random, chrX_DS484433v1_random, chrX_DS484442v1_random, chrX_DS484444v1_random, chrX_DS484447v1_random, chrX_DS484450v1_random, chrX_DS484457v1_random, chrX_DS484459v1_random, chrX_DS484462v1_random, chrX_DS484468v1_random, chrX_DS484474v1_random, chrX_DS484477v1_random, chrX_DS484483v1_random, chrX_DS484488v1_random, chrX_DS484497v1_random, chrX_DS484500v1_random, chrX_DS484504v1_random, chrX_DS484506v1_random, chrX_DS484507v1_random, chrX_DS484512v1_random, chrX_DS484518v1_random, chrX_DS484519v1_random, chrX_DS484526v1_random, chrX_DS484529v1_random, chrX_DS484533v1_random, chrX_DS484535v1_random, chrX_DS484538v1_random, chrX_DS484540v1_random, chrX_DS484541v1_random, chrX_DS484545v1_random, chrX_DS484547v1_random, chrX_DS484552v1_random, chrX_DS484555v1_random, chrX_DS484556v1_random, chrX_DS484558v1_random, chrX_DS484560v1_random, chrX_DS484562v1_random, chrX_DS484563v1_random, chrX_DS484564v1_random, chrX_DS484568v1_random, chrX_DS484569v1_random, chrX_DS484570v1_random, chrX_DS484572v1_random, chrX_DS484576v1_random, chrX_DS484580v1_random, chrX_DS484582v1_random, chrX_DS484583v1_random, chrX_DS484585v1_random, chrX_DS484586v1_random, chrX_DS484587v1_random, chrX_DS484590v1_random, chrX_DS484594v1_random, chrX_DS484596v1_random, chrX_DS484597v1_random, chrX_DS484598v1_random, chrX_DS484599v1_random, chrX_DS484600v1_random, chrX_DS484603v1_random, chrX_DS484604v1_random, chrX_DS484605v1_random, chrX_DS484608v1_random, chrX_DS484609v1_random, chrX_DS484610v1_random, chrX_DS484611v1_random, chrX_DS484615v1_random, chrX_DS484618v1_random, chrX_DS484620v1_random, chrX_DS484622v1_random, chrX_DS484623v1_random, chrX_DS484625v1_random, chrX_DS484626v1_random, chrX_DS484628v1_random, chrX_DS484633v1_random, chrX_DS484636v1_random, chrX_DS484644v1_random, chrX_DS484645v1_random, chrX_DS484647v1_random, chrX_DS484648v1_random, chrX_DS484650v1_random, chrX_DS484657v1_random, chrX_DS484660v1_random, chrX_DS484664v1_random, chrX_DS484666v1_random, chrX_DS484668v1_random, chrX_DS484669v1_random, chrX_DS484670v1_random, chrX_DS484672v1_random, chrX_DS484677v1_random, chrX_DS484679v1_random, chrX_DS484682v1_random, chrX_DS484683v1_random, chrX_DS484684v1_random, chrX_DS484688v1_random, chrX_DS484690v1_random, chrX_DS484691v1_random, chrX_DS484694v1_random, chrX_DS484695v1_random, chrX_DS484697v1_random, chrX_DS484698v1_random, chrX_DS484701v1_random, chrX_DS484702v1_random, chrX_DS484703v1_random, chrX_DS484715v1_random, chrX_DS484719v1_random, chrX_DS484723v1_random, chrX_DS484724v1_random, chrX_DS484725v1_random, chrX_DS484730v1_random, chrX_DS484731v1_random, chrX_DS484732v1_random, chrX_DS484733v1_random, chrX_DS484737v1_random, chrX_DS484740v1_random, chrX_DS484741v1_random, chrX_DS484745v1_random, chrX_DS484749v1_random, chrX_DS484753v1_random, chrX_DS484758v1_random, chrX_DS484763v1_random, chrX_DS484765v1_random, chrX_DS484767v1_random, chrX_DS484768v1_random, chrX_DS484775v1_random, chrX_DS484777v1_random, chrX_DS484778v1_random, chrX_DS484783v1_random, chrX_DS484785v1_random, chrX_DS484786v1_random, chrX_DS484803v1_random, chrX_DS484809v1_random, chrX_DS484810v1_random, chrX_DS484811v1_random, chrX_DS484819v1_random, chrX_DS484826v1_random, chrX_DS484832v1_random, chrX_DS484833v1_random, chrX_DS484837v1_random, chrX_DS484839v1_random, chrX_DS484840v1_random, chrX_DS484845v1_random, chrX_DS484850v1_random, chrX_DS484857v1_random, chrX_DS484871v1_random, chrX_DS484879v1_random, chrX_DS484880v1_random, chrX_DS484890v1_random, chrX_DS484907v1_random, chrX_DS484911v1_random, chrX_DS484913v1_random, chrX_DS484928v1_random, chrX_DS484935v1_random, chrX_DS484951v1_random, chrX_DS484952v1_random, chrX_DS484953v1_random, chrX_DS484955v1_random, chrX_DS484961v1_random, chrX_DS484963v1_random, chrX_DS484965v1_random, chrX_DS484968v1_random, chrX_DS484970v1_random, chrX_DS484974v1_random, chrX_DS484978v1_random, chrX_DS484990v1_random, chrX_DS484995v1_random, chrX_DS484996v1_random, chrX_DS484997v1_random, chrX_DS485012v1_random, chrX_DS485015v1_random, chrX_DS485017v1_random, chrX_DS485043v1_random, chrX_DS485044v1_random, chrX_DS485049v1_random, chrX_DS485050v1_random, chrX_DS485054v1_random, chrX_DS485072v1_random, chrX_DS485074v1_random, chrX_DS485077v1_random, chrX_DS485078v1_random, chrX_DS485080v1_random, chrX_DS485081v1_random, chrX_DS485084v1_random, chrX_DS485096v1_random, chrX_DS485101v1_random, chrX_DS485104v1_random, chrX_DS485109v1_random, chrX_DS485110v1_random, chrX_DS485111v1_random, c”\n",
      "Warning message in .merge_two_Seqinfo_objects(x, y):\n",
      "“Each of the 2 combined objects has sequence levels not in the other:\n",
      "  - in 'x': M\n",
      "  - in 'y': chrM, chrX_CP007103v1_random, chrX_CP007104v1_random, chrX_DS483648v1_random, chrX_DS483655v1_random, chrX_DS483660v1_random, chrX_DS483665v1_random, chrX_DS483666v1_random, chrX_DS483669v1_random, chrX_DS483685v1_random, chrX_DS483698v1_random, chrX_DS483745v1_random, chrX_DS483784v1_random, chrX_DS483789v1_random, chrX_DS483795v1_random, chrX_DS483803v1_random, chrX_DS483809v1_random, chrX_DS483818v1_random, chrX_DS483821v1_random, chrX_DS483843v1_random, chrX_DS483851v1_random, chrX_DS483885v1_random, chrX_DS483888v1_random, chrX_DS483892v1_random, chrX_DS483893v1_random, chrX_DS483897v1_random, chrX_DS483903v1_random, chrX_DS483905v1_random, chrX_DS483907v1_random, chrX_DS483909v1_random, chrX_DS483923v1_random, chrX_DS483926v1_random, chrX_DS483928v1_random, chrX_DS483946v1_random, chrX_DS483948v1_random, chrX_DS483950v1_random, chrX_DS483955v1_random, chrX_DS483963v1_random, chrX_DS483969v1_random, chrX_DS483971v1_random, chrX_DS483974v1_random, chrX_DS483995v1_random, chrX_DS484002v1_random, chrX_DS484005v1_random, chrX_DS484012v1_random, chrX_DS484023v1_random, chrX_DS484026v1_random, chrX_DS484046v1_random, chrX_DS484051v1_random, chrX_DS484057v1_random, chrX_DS484060v1_random, chrX_DS484061v1_random, chrX_DS484067v1_random, chrX_DS484072v1_random, chrX_DS484074v1_random, chrX_DS484075v1_random, chrX_DS484081v1_random, chrX_DS484084v1_random, chrX_DS484085v1_random, chrX_DS484088v1_random, chrX_DS484099v1_random, chrX_DS484101v1_random, chrX_DS484112v1_random, chrX_DS484114v1_random, chrX_DS484124v1_random, chrX_DS484125v1_random, chrX_DS484126v1_random, chrX_DS484130v1_random, chrX_DS484131v1_random, chrX_DS484132v1_random, chrX_DS484133v1_random, chrX_DS484135v1_random, chrX_DS484136v1_random, chrX_DS484137v1_random, chrX_DS484140v1_random, chrX_DS484143v1_random, chrX_DS484161v1_random, chrX_DS484162v1_random, chrX_DS484165v1_random, chrX_DS484166v1_random, chrX_DS484178v1_random, chrX_DS484182v1_random, chrX_DS484185v1_random, chrX_DS484187v1_random, chrX_DS484198v1_random, chrX_DS484200v1_random, chrX_DS484201v1_random, chrX_DS484203v1_random, chrX_DS484215v1_random, chrX_DS484216v1_random, chrX_DS484219v1_random, chrX_DS484235v1_random, chrX_DS484252v1_random, chrX_DS484260v1_random, chrX_DS484261v1_random, chrX_DS484268v1_random, chrX_DS484272v1_random, chrX_DS484273v1_random, chrX_DS484278v1_random, chrX_DS484284v1_random, chrX_DS484288v1_random, chrX_DS484293v1_random, chrX_DS484297v1_random, chrX_DS484298v1_random, chrX_DS484305v1_random, chrX_DS484316v1_random, chrX_DS484319v1_random, chrX_DS484322v1_random, chrX_DS484323v1_random, chrX_DS484326v1_random, chrX_DS484328v1_random, chrX_DS484330v1_random, chrX_DS484337v1_random, chrX_DS484341v1_random, chrX_DS484344v1_random, chrX_DS484345v1_random, chrX_DS484346v1_random, chrX_DS484349v1_random, chrX_DS484354v1_random, chrX_DS484356v1_random, chrX_DS484357v1_random, chrX_DS484358v1_random, chrX_DS484359v1_random, chrX_DS484360v1_random, chrX_DS484361v1_random, chrX_DS484362v1_random, chrX_DS484364v1_random, chrX_DS484367v1_random, chrX_DS484368v1_random, chrX_DS484371v1_random, chrX_DS484374v1_random, chrX_DS484379v1_random, chrX_DS484382v1_random, chrX_DS484384v1_random, chrX_DS484387v1_random, chrX_DS484388v1_random, chrX_DS484393v1_random, chrX_DS484397v1_random, chrX_DS484399v1_random, chrX_DS484401v1_random, chrX_DS484402v1_random, chrX_DS484406v1_random, chrX_DS484409v1_random, chrX_DS484411v1_random, chrX_DS484415v1_random, chrX_DS484417v1_random, chrX_DS484419v1_random, chrX_DS484423v1_random, chrX_DS484428v1_random, chrX_DS484429v1_random, chrX_DS484430v1_random, chrX_DS484431v1_random, chrX_DS484433v1_random, chrX_DS484442v1_random, chrX_DS484444v1_random, chrX_DS484447v1_random, chrX_DS484450v1_random, chrX_DS484457v1_random, chrX_DS484459v1_random, chrX_DS484462v1_random, chrX_DS484468v1_random, chrX_DS484474v1_random, chrX_DS484477v1_random, chrX_DS484483v1_random, chrX_DS484488v1_random, chrX_DS484497v1_random, chrX_DS484500v1_random, chrX_DS484504v1_random, chrX_DS484506v1_random, chrX_DS484507v1_random, chrX_DS484512v1_random, chrX_DS484518v1_random, chrX_DS484519v1_random, chrX_DS484526v1_random, chrX_DS484529v1_random, chrX_DS484533v1_random, chrX_DS484535v1_random, chrX_DS484538v1_random, chrX_DS484540v1_random, chrX_DS484541v1_random, chrX_DS484545v1_random, chrX_DS484547v1_random, chrX_DS484552v1_random, chrX_DS484555v1_random, chrX_DS484556v1_random, chrX_DS484558v1_random, chrX_DS484560v1_random, chrX_DS484562v1_random, chrX_DS484563v1_random, chrX_DS484564v1_random, chrX_DS484568v1_random, chrX_DS484569v1_random, chrX_DS484570v1_random, chrX_DS484572v1_random, chrX_DS484576v1_random, chrX_DS484580v1_random, chrX_DS484582v1_random, chrX_DS484583v1_random, chrX_DS484585v1_random, chrX_DS484586v1_random, chrX_DS484587v1_random, chrX_DS484590v1_random, chrX_DS484594v1_random, chrX_DS484596v1_random, chrX_DS484597v1_random, chrX_DS484598v1_random, chrX_DS484599v1_random, chrX_DS484600v1_random, chrX_DS484603v1_random, chrX_DS484604v1_random, chrX_DS484605v1_random, chrX_DS484608v1_random, chrX_DS484609v1_random, chrX_DS484610v1_random, chrX_DS484611v1_random, chrX_DS484615v1_random, chrX_DS484618v1_random, chrX_DS484620v1_random, chrX_DS484622v1_random, chrX_DS484623v1_random, chrX_DS484625v1_random, chrX_DS484626v1_random, chrX_DS484628v1_random, chrX_DS484633v1_random, chrX_DS484636v1_random, chrX_DS484644v1_random, chrX_DS484645v1_random, chrX_DS484647v1_random, chrX_DS484648v1_random, chrX_DS484650v1_random, chrX_DS484657v1_random, chrX_DS484660v1_random, chrX_DS484664v1_random, chrX_DS484666v1_random, chrX_DS484668v1_random, chrX_DS484669v1_random, chrX_DS484670v1_random, chrX_DS484672v1_random, chrX_DS484677v1_random, chrX_DS484679v1_random, chrX_DS484682v1_random, chrX_DS484683v1_random, chrX_DS484684v1_random, chrX_DS484688v1_random, chrX_DS484690v1_random, chrX_DS484691v1_random, chrX_DS484694v1_random, chrX_DS484695v1_random, chrX_DS484697v1_random, chrX_DS484698v1_random, chrX_DS484701v1_random, chrX_DS484702v1_random, chrX_DS484703v1_random, chrX_DS484715v1_random, chrX_DS484719v1_random, chrX_DS484723v1_random, chrX_DS484724v1_random, chrX_DS484725v1_random, chrX_DS484730v1_random, chrX_DS484731v1_random, chrX_DS484732v1_random, chrX_DS484733v1_random, chrX_DS484737v1_random, chrX_DS484740v1_random, chrX_DS484741v1_random, chrX_DS484745v1_random, chrX_DS484749v1_random, chrX_DS484753v1_random, chrX_DS484758v1_random, chrX_DS484763v1_random, chrX_DS484765v1_random, chrX_DS484767v1_random, chrX_DS484768v1_random, chrX_DS484775v1_random, chrX_DS484777v1_random, chrX_DS484778v1_random, chrX_DS484783v1_random, chrX_DS484785v1_random, chrX_DS484786v1_random, chrX_DS484803v1_random, chrX_DS484809v1_random, chrX_DS484810v1_random, chrX_DS484811v1_random, chrX_DS484819v1_random, chrX_DS484826v1_random, chrX_DS484832v1_random, chrX_DS484833v1_random, chrX_DS484837v1_random, chrX_DS484839v1_random, chrX_DS484840v1_random, chrX_DS484845v1_random, chrX_DS484850v1_random, chrX_DS484857v1_random, chrX_DS484871v1_random, chrX_DS484879v1_random, chrX_DS484880v1_random, chrX_DS484890v1_random, chrX_DS484907v1_random, chrX_DS484911v1_random, chrX_DS484913v1_random, chrX_DS484928v1_random, chrX_DS484935v1_random, chrX_DS484951v1_random, chrX_DS484952v1_random, chrX_DS484953v1_random, chrX_DS484955v1_random, chrX_DS484961v1_random, chrX_DS484963v1_random, chrX_DS484965v1_random, chrX_DS484968v1_random, chrX_DS484970v1_random, chrX_DS484974v1_random, chrX_DS484978v1_random, chrX_DS484990v1_random, chrX_DS484995v1_random, chrX_DS484996v1_random, chrX_DS484997v1_random, chrX_DS485012v1_random, chrX_DS485015v1_random, chrX_DS485017v1_random, chrX_DS485043v1_random, chrX_DS485044v1_random, chrX_DS485049v1_random, chrX_DS485050v1_random, chrX_DS485054v1_random, chrX_DS485072v1_random, chrX_DS485074v1_random, chrX_DS485077v1_random, chrX_DS485078v1_random, chrX_DS485080v1_random, chrX_DS485081v1_random, chrX_DS485084v1_random, chrX_DS485096v1_random, chrX_DS485101v1_random, chrX_DS485104v1_random, chrX_DS485109v1_random, chrX_DS485110v1_random, chrX_DS485111v1_random, c”\n",
      "Warning message in .merge_two_Seqinfo_objects(x, y):\n",
      "“Each of the 2 combined objects has sequence levels not in the other:\n",
      "  - in 'x': M\n",
      "  - in 'y': chrM, chrX_CP007103v1_random, chrX_CP007104v1_random, chrX_DS483648v1_random, chrX_DS483655v1_random, chrX_DS483660v1_random, chrX_DS483665v1_random, chrX_DS483666v1_random, chrX_DS483669v1_random, chrX_DS483685v1_random, chrX_DS483698v1_random, chrX_DS483745v1_random, chrX_DS483784v1_random, chrX_DS483789v1_random, chrX_DS483795v1_random, chrX_DS483803v1_random, chrX_DS483809v1_random, chrX_DS483818v1_random, chrX_DS483821v1_random, chrX_DS483843v1_random, chrX_DS483851v1_random, chrX_DS483885v1_random, chrX_DS483888v1_random, chrX_DS483892v1_random, chrX_DS483893v1_random, chrX_DS483897v1_random, chrX_DS483903v1_random, chrX_DS483905v1_random, chrX_DS483907v1_random, chrX_DS483909v1_random, chrX_DS483923v1_random, chrX_DS483926v1_random, chrX_DS483928v1_random, chrX_DS483946v1_random, chrX_DS483948v1_random, chrX_DS483950v1_random, chrX_DS483955v1_random, chrX_DS483963v1_random, chrX_DS483969v1_random, chrX_DS483971v1_random, chrX_DS483974v1_random, chrX_DS483995v1_random, chrX_DS484002v1_random, chrX_DS484005v1_random, chrX_DS484012v1_random, chrX_DS484023v1_random, chrX_DS484026v1_random, chrX_DS484046v1_random, chrX_DS484051v1_random, chrX_DS484057v1_random, chrX_DS484060v1_random, chrX_DS484061v1_random, chrX_DS484067v1_random, chrX_DS484072v1_random, chrX_DS484074v1_random, chrX_DS484075v1_random, chrX_DS484081v1_random, chrX_DS484084v1_random, chrX_DS484085v1_random, chrX_DS484088v1_random, chrX_DS484099v1_random, chrX_DS484101v1_random, chrX_DS484112v1_random, chrX_DS484114v1_random, chrX_DS484124v1_random, chrX_DS484125v1_random, chrX_DS484126v1_random, chrX_DS484130v1_random, chrX_DS484131v1_random, chrX_DS484132v1_random, chrX_DS484133v1_random, chrX_DS484135v1_random, chrX_DS484136v1_random, chrX_DS484137v1_random, chrX_DS484140v1_random, chrX_DS484143v1_random, chrX_DS484161v1_random, chrX_DS484162v1_random, chrX_DS484165v1_random, chrX_DS484166v1_random, chrX_DS484178v1_random, chrX_DS484182v1_random, chrX_DS484185v1_random, chrX_DS484187v1_random, chrX_DS484198v1_random, chrX_DS484200v1_random, chrX_DS484201v1_random, chrX_DS484203v1_random, chrX_DS484215v1_random, chrX_DS484216v1_random, chrX_DS484219v1_random, chrX_DS484235v1_random, chrX_DS484252v1_random, chrX_DS484260v1_random, chrX_DS484261v1_random, chrX_DS484268v1_random, chrX_DS484272v1_random, chrX_DS484273v1_random, chrX_DS484278v1_random, chrX_DS484284v1_random, chrX_DS484288v1_random, chrX_DS484293v1_random, chrX_DS484297v1_random, chrX_DS484298v1_random, chrX_DS484305v1_random, chrX_DS484316v1_random, chrX_DS484319v1_random, chrX_DS484322v1_random, chrX_DS484323v1_random, chrX_DS484326v1_random, chrX_DS484328v1_random, chrX_DS484330v1_random, chrX_DS484337v1_random, chrX_DS484341v1_random, chrX_DS484344v1_random, chrX_DS484345v1_random, chrX_DS484346v1_random, chrX_DS484349v1_random, chrX_DS484354v1_random, chrX_DS484356v1_random, chrX_DS484357v1_random, chrX_DS484358v1_random, chrX_DS484359v1_random, chrX_DS484360v1_random, chrX_DS484361v1_random, chrX_DS484362v1_random, chrX_DS484364v1_random, chrX_DS484367v1_random, chrX_DS484368v1_random, chrX_DS484371v1_random, chrX_DS484374v1_random, chrX_DS484379v1_random, chrX_DS484382v1_random, chrX_DS484384v1_random, chrX_DS484387v1_random, chrX_DS484388v1_random, chrX_DS484393v1_random, chrX_DS484397v1_random, chrX_DS484399v1_random, chrX_DS484401v1_random, chrX_DS484402v1_random, chrX_DS484406v1_random, chrX_DS484409v1_random, chrX_DS484411v1_random, chrX_DS484415v1_random, chrX_DS484417v1_random, chrX_DS484419v1_random, chrX_DS484423v1_random, chrX_DS484428v1_random, chrX_DS484429v1_random, chrX_DS484430v1_random, chrX_DS484431v1_random, chrX_DS484433v1_random, chrX_DS484442v1_random, chrX_DS484444v1_random, chrX_DS484447v1_random, chrX_DS484450v1_random, chrX_DS484457v1_random, chrX_DS484459v1_random, chrX_DS484462v1_random, chrX_DS484468v1_random, chrX_DS484474v1_random, chrX_DS484477v1_random, chrX_DS484483v1_random, chrX_DS484488v1_random, chrX_DS484497v1_random, chrX_DS484500v1_random, chrX_DS484504v1_random, chrX_DS484506v1_random, chrX_DS484507v1_random, chrX_DS484512v1_random, chrX_DS484518v1_random, chrX_DS484519v1_random, chrX_DS484526v1_random, chrX_DS484529v1_random, chrX_DS484533v1_random, chrX_DS484535v1_random, chrX_DS484538v1_random, chrX_DS484540v1_random, chrX_DS484541v1_random, chrX_DS484545v1_random, chrX_DS484547v1_random, chrX_DS484552v1_random, chrX_DS484555v1_random, chrX_DS484556v1_random, chrX_DS484558v1_random, chrX_DS484560v1_random, chrX_DS484562v1_random, chrX_DS484563v1_random, chrX_DS484564v1_random, chrX_DS484568v1_random, chrX_DS484569v1_random, chrX_DS484570v1_random, chrX_DS484572v1_random, chrX_DS484576v1_random, chrX_DS484580v1_random, chrX_DS484582v1_random, chrX_DS484583v1_random, chrX_DS484585v1_random, chrX_DS484586v1_random, chrX_DS484587v1_random, chrX_DS484590v1_random, chrX_DS484594v1_random, chrX_DS484596v1_random, chrX_DS484597v1_random, chrX_DS484598v1_random, chrX_DS484599v1_random, chrX_DS484600v1_random, chrX_DS484603v1_random, chrX_DS484604v1_random, chrX_DS484605v1_random, chrX_DS484608v1_random, chrX_DS484609v1_random, chrX_DS484610v1_random, chrX_DS484611v1_random, chrX_DS484615v1_random, chrX_DS484618v1_random, chrX_DS484620v1_random, chrX_DS484622v1_random, chrX_DS484623v1_random, chrX_DS484625v1_random, chrX_DS484626v1_random, chrX_DS484628v1_random, chrX_DS484633v1_random, chrX_DS484636v1_random, chrX_DS484644v1_random, chrX_DS484645v1_random, chrX_DS484647v1_random, chrX_DS484648v1_random, chrX_DS484650v1_random, chrX_DS484657v1_random, chrX_DS484660v1_random, chrX_DS484664v1_random, chrX_DS484666v1_random, chrX_DS484668v1_random, chrX_DS484669v1_random, chrX_DS484670v1_random, chrX_DS484672v1_random, chrX_DS484677v1_random, chrX_DS484679v1_random, chrX_DS484682v1_random, chrX_DS484683v1_random, chrX_DS484684v1_random, chrX_DS484688v1_random, chrX_DS484690v1_random, chrX_DS484691v1_random, chrX_DS484694v1_random, chrX_DS484695v1_random, chrX_DS484697v1_random, chrX_DS484698v1_random, chrX_DS484701v1_random, chrX_DS484702v1_random, chrX_DS484703v1_random, chrX_DS484715v1_random, chrX_DS484719v1_random, chrX_DS484723v1_random, chrX_DS484724v1_random, chrX_DS484725v1_random, chrX_DS484730v1_random, chrX_DS484731v1_random, chrX_DS484732v1_random, chrX_DS484733v1_random, chrX_DS484737v1_random, chrX_DS484740v1_random, chrX_DS484741v1_random, chrX_DS484745v1_random, chrX_DS484749v1_random, chrX_DS484753v1_random, chrX_DS484758v1_random, chrX_DS484763v1_random, chrX_DS484765v1_random, chrX_DS484767v1_random, chrX_DS484768v1_random, chrX_DS484775v1_random, chrX_DS484777v1_random, chrX_DS484778v1_random, chrX_DS484783v1_random, chrX_DS484785v1_random, chrX_DS484786v1_random, chrX_DS484803v1_random, chrX_DS484809v1_random, chrX_DS484810v1_random, chrX_DS484811v1_random, chrX_DS484819v1_random, chrX_DS484826v1_random, chrX_DS484832v1_random, chrX_DS484833v1_random, chrX_DS484837v1_random, chrX_DS484839v1_random, chrX_DS484840v1_random, chrX_DS484845v1_random, chrX_DS484850v1_random, chrX_DS484857v1_random, chrX_DS484871v1_random, chrX_DS484879v1_random, chrX_DS484880v1_random, chrX_DS484890v1_random, chrX_DS484907v1_random, chrX_DS484911v1_random, chrX_DS484913v1_random, chrX_DS484928v1_random, chrX_DS484935v1_random, chrX_DS484951v1_random, chrX_DS484952v1_random, chrX_DS484953v1_random, chrX_DS484955v1_random, chrX_DS484961v1_random, chrX_DS484963v1_random, chrX_DS484965v1_random, chrX_DS484968v1_random, chrX_DS484970v1_random, chrX_DS484974v1_random, chrX_DS484978v1_random, chrX_DS484990v1_random, chrX_DS484995v1_random, chrX_DS484996v1_random, chrX_DS484997v1_random, chrX_DS485012v1_random, chrX_DS485015v1_random, chrX_DS485017v1_random, chrX_DS485043v1_random, chrX_DS485044v1_random, chrX_DS485049v1_random, chrX_DS485050v1_random, chrX_DS485054v1_random, chrX_DS485072v1_random, chrX_DS485074v1_random, chrX_DS485077v1_random, chrX_DS485078v1_random, chrX_DS485080v1_random, chrX_DS485081v1_random, chrX_DS485084v1_random, chrX_DS485096v1_random, chrX_DS485101v1_random, chrX_DS485104v1_random, chrX_DS485109v1_random, chrX_DS485110v1_random, chrX_DS485111v1_random, c”\n",
      "Warning message in .merge_two_Seqinfo_objects(x, y):\n",
      "“Each of the 2 combined objects has sequence levels not in the other:\n",
      "  - in 'x': M\n",
      "  - in 'y': chrM, chrX_CP007103v1_random, chrX_CP007104v1_random, chrX_DS483648v1_random, chrX_DS483655v1_random, chrX_DS483660v1_random, chrX_DS483665v1_random, chrX_DS483666v1_random, chrX_DS483669v1_random, chrX_DS483685v1_random, chrX_DS483698v1_random, chrX_DS483745v1_random, chrX_DS483784v1_random, chrX_DS483789v1_random, chrX_DS483795v1_random, chrX_DS483803v1_random, chrX_DS483809v1_random, chrX_DS483818v1_random, chrX_DS483821v1_random, chrX_DS483843v1_random, chrX_DS483851v1_random, chrX_DS483885v1_random, chrX_DS483888v1_random, chrX_DS483892v1_random, chrX_DS483893v1_random, chrX_DS483897v1_random, chrX_DS483903v1_random, chrX_DS483905v1_random, chrX_DS483907v1_random, chrX_DS483909v1_random, chrX_DS483923v1_random, chrX_DS483926v1_random, chrX_DS483928v1_random, chrX_DS483946v1_random, chrX_DS483948v1_random, chrX_DS483950v1_random, chrX_DS483955v1_random, chrX_DS483963v1_random, chrX_DS483969v1_random, chrX_DS483971v1_random, chrX_DS483974v1_random, chrX_DS483995v1_random, chrX_DS484002v1_random, chrX_DS484005v1_random, chrX_DS484012v1_random, chrX_DS484023v1_random, chrX_DS484026v1_random, chrX_DS484046v1_random, chrX_DS484051v1_random, chrX_DS484057v1_random, chrX_DS484060v1_random, chrX_DS484061v1_random, chrX_DS484067v1_random, chrX_DS484072v1_random, chrX_DS484074v1_random, chrX_DS484075v1_random, chrX_DS484081v1_random, chrX_DS484084v1_random, chrX_DS484085v1_random, chrX_DS484088v1_random, chrX_DS484099v1_random, chrX_DS484101v1_random, chrX_DS484112v1_random, chrX_DS484114v1_random, chrX_DS484124v1_random, chrX_DS484125v1_random, chrX_DS484126v1_random, chrX_DS484130v1_random, chrX_DS484131v1_random, chrX_DS484132v1_random, chrX_DS484133v1_random, chrX_DS484135v1_random, chrX_DS484136v1_random, chrX_DS484137v1_random, chrX_DS484140v1_random, chrX_DS484143v1_random, chrX_DS484161v1_random, chrX_DS484162v1_random, chrX_DS484165v1_random, chrX_DS484166v1_random, chrX_DS484178v1_random, chrX_DS484182v1_random, chrX_DS484185v1_random, chrX_DS484187v1_random, chrX_DS484198v1_random, chrX_DS484200v1_random, chrX_DS484201v1_random, chrX_DS484203v1_random, chrX_DS484215v1_random, chrX_DS484216v1_random, chrX_DS484219v1_random, chrX_DS484235v1_random, chrX_DS484252v1_random, chrX_DS484260v1_random, chrX_DS484261v1_random, chrX_DS484268v1_random, chrX_DS484272v1_random, chrX_DS484273v1_random, chrX_DS484278v1_random, chrX_DS484284v1_random, chrX_DS484288v1_random, chrX_DS484293v1_random, chrX_DS484297v1_random, chrX_DS484298v1_random, chrX_DS484305v1_random, chrX_DS484316v1_random, chrX_DS484319v1_random, chrX_DS484322v1_random, chrX_DS484323v1_random, chrX_DS484326v1_random, chrX_DS484328v1_random, chrX_DS484330v1_random, chrX_DS484337v1_random, chrX_DS484341v1_random, chrX_DS484344v1_random, chrX_DS484345v1_random, chrX_DS484346v1_random, chrX_DS484349v1_random, chrX_DS484354v1_random, chrX_DS484356v1_random, chrX_DS484357v1_random, chrX_DS484358v1_random, chrX_DS484359v1_random, chrX_DS484360v1_random, chrX_DS484361v1_random, chrX_DS484362v1_random, chrX_DS484364v1_random, chrX_DS484367v1_random, chrX_DS484368v1_random, chrX_DS484371v1_random, chrX_DS484374v1_random, chrX_DS484379v1_random, chrX_DS484382v1_random, chrX_DS484384v1_random, chrX_DS484387v1_random, chrX_DS484388v1_random, chrX_DS484393v1_random, chrX_DS484397v1_random, chrX_DS484399v1_random, chrX_DS484401v1_random, chrX_DS484402v1_random, chrX_DS484406v1_random, chrX_DS484409v1_random, chrX_DS484411v1_random, chrX_DS484415v1_random, chrX_DS484417v1_random, chrX_DS484419v1_random, chrX_DS484423v1_random, chrX_DS484428v1_random, chrX_DS484429v1_random, chrX_DS484430v1_random, chrX_DS484431v1_random, chrX_DS484433v1_random, chrX_DS484442v1_random, chrX_DS484444v1_random, chrX_DS484447v1_random, chrX_DS484450v1_random, chrX_DS484457v1_random, chrX_DS484459v1_random, chrX_DS484462v1_random, chrX_DS484468v1_random, chrX_DS484474v1_random, chrX_DS484477v1_random, chrX_DS484483v1_random, chrX_DS484488v1_random, chrX_DS484497v1_random, chrX_DS484500v1_random, chrX_DS484504v1_random, chrX_DS484506v1_random, chrX_DS484507v1_random, chrX_DS484512v1_random, chrX_DS484518v1_random, chrX_DS484519v1_random, chrX_DS484526v1_random, chrX_DS484529v1_random, chrX_DS484533v1_random, chrX_DS484535v1_random, chrX_DS484538v1_random, chrX_DS484540v1_random, chrX_DS484541v1_random, chrX_DS484545v1_random, chrX_DS484547v1_random, chrX_DS484552v1_random, chrX_DS484555v1_random, chrX_DS484556v1_random, chrX_DS484558v1_random, chrX_DS484560v1_random, chrX_DS484562v1_random, chrX_DS484563v1_random, chrX_DS484564v1_random, chrX_DS484568v1_random, chrX_DS484569v1_random, chrX_DS484570v1_random, chrX_DS484572v1_random, chrX_DS484576v1_random, chrX_DS484580v1_random, chrX_DS484582v1_random, chrX_DS484583v1_random, chrX_DS484585v1_random, chrX_DS484586v1_random, chrX_DS484587v1_random, chrX_DS484590v1_random, chrX_DS484594v1_random, chrX_DS484596v1_random, chrX_DS484597v1_random, chrX_DS484598v1_random, chrX_DS484599v1_random, chrX_DS484600v1_random, chrX_DS484603v1_random, chrX_DS484604v1_random, chrX_DS484605v1_random, chrX_DS484608v1_random, chrX_DS484609v1_random, chrX_DS484610v1_random, chrX_DS484611v1_random, chrX_DS484615v1_random, chrX_DS484618v1_random, chrX_DS484620v1_random, chrX_DS484622v1_random, chrX_DS484623v1_random, chrX_DS484625v1_random, chrX_DS484626v1_random, chrX_DS484628v1_random, chrX_DS484633v1_random, chrX_DS484636v1_random, chrX_DS484644v1_random, chrX_DS484645v1_random, chrX_DS484647v1_random, chrX_DS484648v1_random, chrX_DS484650v1_random, chrX_DS484657v1_random, chrX_DS484660v1_random, chrX_DS484664v1_random, chrX_DS484666v1_random, chrX_DS484668v1_random, chrX_DS484669v1_random, chrX_DS484670v1_random, chrX_DS484672v1_random, chrX_DS484677v1_random, chrX_DS484679v1_random, chrX_DS484682v1_random, chrX_DS484683v1_random, chrX_DS484684v1_random, chrX_DS484688v1_random, chrX_DS484690v1_random, chrX_DS484691v1_random, chrX_DS484694v1_random, chrX_DS484695v1_random, chrX_DS484697v1_random, chrX_DS484698v1_random, chrX_DS484701v1_random, chrX_DS484702v1_random, chrX_DS484703v1_random, chrX_DS484715v1_random, chrX_DS484719v1_random, chrX_DS484723v1_random, chrX_DS484724v1_random, chrX_DS484725v1_random, chrX_DS484730v1_random, chrX_DS484731v1_random, chrX_DS484732v1_random, chrX_DS484733v1_random, chrX_DS484737v1_random, chrX_DS484740v1_random, chrX_DS484741v1_random, chrX_DS484745v1_random, chrX_DS484749v1_random, chrX_DS484753v1_random, chrX_DS484758v1_random, chrX_DS484763v1_random, chrX_DS484765v1_random, chrX_DS484767v1_random, chrX_DS484768v1_random, chrX_DS484775v1_random, chrX_DS484777v1_random, chrX_DS484778v1_random, chrX_DS484783v1_random, chrX_DS484785v1_random, chrX_DS484786v1_random, chrX_DS484803v1_random, chrX_DS484809v1_random, chrX_DS484810v1_random, chrX_DS484811v1_random, chrX_DS484819v1_random, chrX_DS484826v1_random, chrX_DS484832v1_random, chrX_DS484833v1_random, chrX_DS484837v1_random, chrX_DS484839v1_random, chrX_DS484840v1_random, chrX_DS484845v1_random, chrX_DS484850v1_random, chrX_DS484857v1_random, chrX_DS484871v1_random, chrX_DS484879v1_random, chrX_DS484880v1_random, chrX_DS484890v1_random, chrX_DS484907v1_random, chrX_DS484911v1_random, chrX_DS484913v1_random, chrX_DS484928v1_random, chrX_DS484935v1_random, chrX_DS484951v1_random, chrX_DS484952v1_random, chrX_DS484953v1_random, chrX_DS484955v1_random, chrX_DS484961v1_random, chrX_DS484963v1_random, chrX_DS484965v1_random, chrX_DS484968v1_random, chrX_DS484970v1_random, chrX_DS484974v1_random, chrX_DS484978v1_random, chrX_DS484990v1_random, chrX_DS484995v1_random, chrX_DS484996v1_random, chrX_DS484997v1_random, chrX_DS485012v1_random, chrX_DS485015v1_random, chrX_DS485017v1_random, chrX_DS485043v1_random, chrX_DS485044v1_random, chrX_DS485049v1_random, chrX_DS485050v1_random, chrX_DS485054v1_random, chrX_DS485072v1_random, chrX_DS485074v1_random, chrX_DS485077v1_random, chrX_DS485078v1_random, chrX_DS485080v1_random, chrX_DS485081v1_random, chrX_DS485084v1_random, chrX_DS485096v1_random, chrX_DS485101v1_random, chrX_DS485104v1_random, chrX_DS485109v1_random, chrX_DS485110v1_random, chrX_DS485111v1_random, c”\n"
     ]
    },
    {
     "name": "stdout",
     "output_type": "stream",
     "text": [
      ">> assigning chromosome lengths\t\t\t 2024-08-20 14:33:45 \n",
      ">> done...\t\t\t\t\t 2024-08-20 14:33:45 \n"
     ]
    }
   ],
   "source": [
    "# Peak annotation\n",
    "peakAnno <- annotatePeak(peak, \n",
    "    tssRegion=c(-3000, 3000),\n",
    "    TxDb=txdb)"
   ]
  },
  {
   "cell_type": "code",
   "execution_count": 6,
   "metadata": {
    "vscode": {
     "languageId": "r"
    }
   },
   "outputs": [
    {
     "name": "stdout",
     "output_type": "stream",
     "text": [
      "  seqnames    start      end width strand width.1 strand.1     Conc\n",
      "1    chr3R 21662657 21663056   400      *     401        * 10.19282\n",
      "2    chr2L    47259    47658   400      *     401        * 10.29213\n",
      "3     chrX  3789785  3790184   400      *     401        * 10.05432\n",
      "4    chr3L 16806423 16806822   400      *     401        * 10.73806\n",
      "5    chr3R 23723375 23723774   400      *     401        * 11.62249\n",
      "  Conc_Cph_NanoDam Conc_control      Fold      p.value          FDR\n",
      "1         6.397865    11.139892 -4.664747 2.432945e-50 6.258750e-46\n",
      "2        11.187563     7.453856  3.655514 3.620007e-35 4.656234e-31\n",
      "3        10.900032     7.752839  3.057863 3.356041e-26 2.877805e-22\n",
      "4        11.564912     8.593663  2.884171 2.430698e-25 1.563243e-21\n",
      "5        12.493677     9.073190  3.318609 3.109194e-25 1.599680e-21\n",
      "                                        annotation geneChr geneStart  geneEnd\n",
      "1                                 Promoter (<=1kb)       4  21661186 21662972\n",
      "2 Intron (FBtr0078163/FBgn0051973, intron 2 of 12)       1     54817    55767\n",
      "3                                 Promoter (<=1kb)       6   3789969  3792477\n",
      "4                                 Promoter (<=1kb)       3  16787573 16807731\n",
      "5                                 Promoter (<=1kb)       4  23723331 23731499\n",
      "  geneLength geneStrand      geneId transcriptId distanceToTSS\n",
      "1       1787          2 FBgn0038893  FBtr0084116             0\n",
      "2        951          1 FBgn0267987  FBtr0347585         -7159\n",
      "3       2509          1 FBgn0029676  FBtr0070598             0\n",
      "4      20159          2 FBgn0036663  FBtr0075344           909\n",
      "5       8169          1 FBgn0039109  FBtr0084449            44\n"
     ]
    }
   ],
   "source": [
    "# Save the results\n",
    "peakAnno.df <- as.data.frame(peakAnno)\n",
    "print(peakAnno.df[1:5,])"
   ]
  },
  {
   "cell_type": "code",
   "execution_count": 7,
   "metadata": {
    "vscode": {
     "languageId": "r"
    }
   },
   "outputs": [],
   "source": [
    "# write to csv\n",
    "write.csv(peakAnno.df, file = \"../results/diffbind/peak_anno.csv\")\n"
   ]
  },
  {
   "cell_type": "markdown",
   "metadata": {
    "vscode": {
     "languageId": "r"
    }
   },
   "source": [
    "# DiffBind"
   ]
  },
  {
   "cell_type": "code",
   "execution_count": null,
   "metadata": {
    "vscode": {
     "languageId": "r"
    }
   },
   "outputs": [],
   "source": [
    "# if (!require(\"BiocManager\", quietly = TRUE))\n",
    "#     install.packages(\"BiocManager\")\n",
    "\n",
    "# BiocManager::install(\"DiffBind\")"
   ]
  },
  {
   "cell_type": "code",
   "execution_count": 18,
   "metadata": {
    "vscode": {
     "languageId": "r"
    }
   },
   "outputs": [],
   "source": [
    "## loading packages\n",
    "suppressPackageStartupMessages({\n",
    "  library(DiffBind)\n",
    "  # library(tidyverse)\n",
    "})"
   ]
  },
  {
   "cell_type": "code",
   "execution_count": 19,
   "metadata": {
    "vscode": {
     "languageId": "r"
    }
   },
   "outputs": [
    {
     "name": "stderr",
     "output_type": "stream",
     "text": [
      "Warning message in read.table(file = file, header = header, sep = sep, quote = quote, :\n",
      "“incomplete final line found by readTableHeader on '../resources/samplesheet_metadata.csv'”\n"
     ]
    },
    {
     "name": "stderr",
     "output_type": "stream",
     "text": [
      "DS-002A5   control  2 bed\n",
      "\n",
      "DS-002A6   Cph_NanoDam  2 bed\n",
      "\n",
      "DS-002A7   control  1 bed\n",
      "\n",
      "DS-002A8   Cph_NanoDam  1 bed\n",
      "\n"
     ]
    }
   ],
   "source": [
    "samples <- read.csv('../resources/samplesheet_metadata.csv')\n",
    "dbObj <- dba(sampleSheet=samples)\n"
   ]
  },
  {
   "cell_type": "code",
   "execution_count": 20,
   "metadata": {
    "vscode": {
     "languageId": "r"
    }
   },
   "outputs": [
    {
     "name": "stderr",
     "output_type": "stream",
     "text": [
      "Computing summits...\n",
      "\n",
      "Re-centering peaks...\n",
      "\n"
     ]
    }
   ],
   "source": [
    "# The next step is to take the alignment files and compute count information for each of the peaks/regions in the consensus set. \n",
    "dbObj <- dba.count(dbObj, bUseSummarizeOverlaps=TRUE)"
   ]
  },
  {
   "cell_type": "code",
   "execution_count": 35,
   "metadata": {
    "vscode": {
     "languageId": "r"
    }
   },
   "outputs": [
    {
     "data": {
      "text/html": [
       "<strong>png:</strong> 2"
      ],
      "text/latex": [
       "\\textbf{png:} 2"
      ],
      "text/markdown": [
       "**png:** 2"
      ],
      "text/plain": [
       "png \n",
       "  2 "
      ]
     },
     "metadata": {},
     "output_type": "display_data"
    }
   ],
   "source": [
    "# To see how well the samples cluster with one another, we can draw a PCA plot using all consensus sites.\n",
    "pdf('../results/diffbind/DiffBind_pca.pdf')\n",
    "dba.plotPCA(dbObj,  attributes=DBA_FACTOR, label=DBA_ID)\n",
    "dev.off()"
   ]
  },
  {
   "cell_type": "code",
   "execution_count": 36,
   "metadata": {
    "vscode": {
     "languageId": "r"
    }
   },
   "outputs": [
    {
     "data": {
      "text/html": [
       "<strong>png:</strong> 2"
      ],
      "text/latex": [
       "\\textbf{png:} 2"
      ],
      "text/markdown": [
       "**png:** 2"
      ],
      "text/plain": [
       "png \n",
       "  2 "
      ]
     },
     "metadata": {},
     "output_type": "display_data"
    }
   ],
   "source": [
    "# We can also plot a correlation heatmap, to evaluate the relationship between samples.\n",
    "pdf('../results/diffbind/DiffBind_corr_heatmap.pdf')\n",
    "plot(dbObj)\n",
    "dev.off()"
   ]
  },
  {
   "cell_type": "code",
   "execution_count": 28,
   "metadata": {
    "vscode": {
     "languageId": "r"
    }
   },
   "outputs": [
    {
     "name": "stdout",
     "output_type": "stream",
     "text": [
      "[1] \"Contrasting samples...\"\n"
     ]
    },
    {
     "name": "stderr",
     "output_type": "stream",
     "text": [
      "Computing results names...\n",
      "\n"
     ]
    }
   ],
   "source": [
    "# tell DiffBind which samples we want to compare to one another\n",
    "print(\"Contrasting samples...\")\n",
    "dbObj <- dba.contrast(dbObj, contrast=c(\"Condition\", \"Cph_NanoDam\", \"control\"), minMembers = 2)"
   ]
  },
  {
   "cell_type": "code",
   "execution_count": 29,
   "metadata": {
    "vscode": {
     "languageId": "r"
    }
   },
   "outputs": [
    {
     "name": "stdout",
     "output_type": "stream",
     "text": [
      "[1] \"Performing differential enrichment analysis...\"\n"
     ]
    },
    {
     "name": "stderr",
     "output_type": "stream",
     "text": [
      "Applying Blacklist/Greylists...\n",
      "\n",
      "No genome detected.\n",
      "\n",
      "Normalize DESeq2 with defaults...\n",
      "\n",
      "Setting design...\n",
      "\n",
      "Analyzing...\n",
      "\n",
      "gene-wise dispersion estimates\n",
      "\n",
      "mean-dispersion relationship\n",
      "\n",
      "final dispersion estimates\n",
      "\n"
     ]
    }
   ],
   "source": [
    "# Performing the differential enrichment analysis\n",
    "print(\"Performing differential enrichment analysis...\")\n",
    "dbObj <- dba.analyze(dbObj, method=DBA_DESEQ2, design=\"~Condition\")"
   ]
  },
  {
   "cell_type": "code",
   "execution_count": 37,
   "metadata": {
    "vscode": {
     "languageId": "r"
    }
   },
   "outputs": [
    {
     "name": "stdout",
     "output_type": "stream",
     "text": [
      "[1] \"Differential enrichment analysis results:\"\n"
     ]
    },
    {
     "data": {
      "text/html": [
       "<table class=\"dataframe\">\n",
       "<caption>A data.frame: 1 × 6</caption>\n",
       "<thead>\n",
       "\t<tr><th></th><th scope=col>Factor</th><th scope=col>Group</th><th scope=col>Samples</th><th scope=col>Group2</th><th scope=col>Samples2</th><th scope=col>DB.DESeq2</th></tr>\n",
       "\t<tr><th></th><th scope=col>&lt;chr&gt;</th><th scope=col>&lt;chr&gt;</th><th scope=col>&lt;chr&gt;</th><th scope=col>&lt;chr&gt;</th><th scope=col>&lt;chr&gt;</th><th scope=col>&lt;chr&gt;</th></tr>\n",
       "</thead>\n",
       "<tbody>\n",
       "\t<tr><th scope=row>1</th><td>Condition</td><td>Cph_NanoDam</td><td>2</td><td>control</td><td>2</td><td>1256</td></tr>\n",
       "</tbody>\n",
       "</table>\n"
      ],
      "text/latex": [
       "A data.frame: 1 × 6\n",
       "\\begin{tabular}{r|llllll}\n",
       "  & Factor & Group & Samples & Group2 & Samples2 & DB.DESeq2\\\\\n",
       "  & <chr> & <chr> & <chr> & <chr> & <chr> & <chr>\\\\\n",
       "\\hline\n",
       "\t1 & Condition & Cph\\_NanoDam & 2 & control & 2 & 1256\\\\\n",
       "\\end{tabular}\n"
      ],
      "text/markdown": [
       "\n",
       "A data.frame: 1 × 6\n",
       "\n",
       "| <!--/--> | Factor &lt;chr&gt; | Group &lt;chr&gt; | Samples &lt;chr&gt; | Group2 &lt;chr&gt; | Samples2 &lt;chr&gt; | DB.DESeq2 &lt;chr&gt; |\n",
       "|---|---|---|---|---|---|---|\n",
       "| 1 | Condition | Cph_NanoDam | 2 | control | 2 | 1256 |\n",
       "\n"
      ],
      "text/plain": [
       "  Factor    Group       Samples Group2  Samples2 DB.DESeq2\n",
       "1 Condition Cph_NanoDam 2       control 2        1256     "
      ]
     },
     "metadata": {},
     "output_type": "display_data"
    }
   ],
   "source": [
    "# Show summary\n",
    "print(\"Differential enrichment analysis results:\")\n",
    "dba.show(dbObj, bContrasts=T)"
   ]
  },
  {
   "cell_type": "code",
   "execution_count": 38,
   "metadata": {
    "vscode": {
     "languageId": "r"
    }
   },
   "outputs": [
    {
     "data": {
      "text/html": [
       "<strong>png:</strong> 2"
      ],
      "text/latex": [
       "\\textbf{png:} 2"
      ],
      "text/markdown": [
       "**png:** 2"
      ],
      "text/plain": [
       "png \n",
       "  2 "
      ]
     },
     "metadata": {},
     "output_type": "display_data"
    }
   ],
   "source": [
    "# MA plots are a useful way to visualize the effect of normalization on data, as well as seeing which of the data points are being identified as differentially bound.\n",
    "pdf('../results/diffbind/DiffBind_MAplot_deseq.pdf')\n",
    "dba.plotMA(dbObj, method=DBA_DESEQ2)\n",
    "dev.off()"
   ]
  },
  {
   "cell_type": "code",
   "execution_count": 39,
   "metadata": {
    "vscode": {
     "languageId": "r"
    }
   },
   "outputs": [
    {
     "data": {
      "text/html": [
       "<strong>png:</strong> 2"
      ],
      "text/latex": [
       "\\textbf{png:} 2"
      ],
      "text/markdown": [
       "**png:** 2"
      ],
      "text/plain": [
       "png \n",
       "  2 "
      ]
     },
     "metadata": {},
     "output_type": "display_data"
    }
   ],
   "source": [
    "# concentrations of each sample groups plotted against each other.\n",
    "pdf('../results/diffbind/DiffBind_MAplot_bXY.pdf')\n",
    "dba.plotMA(dbObj, bXY=TRUE)\n",
    "dev.off()"
   ]
  },
  {
   "cell_type": "code",
   "execution_count": 40,
   "metadata": {
    "vscode": {
     "languageId": "r"
    }
   },
   "outputs": [
    {
     "data": {
      "text/html": [
       "<strong>png:</strong> 2"
      ],
      "text/latex": [
       "\\textbf{png:} 2"
      ],
      "text/markdown": [
       "**png:** 2"
      ],
      "text/plain": [
       "png \n",
       "  2 "
      ]
     },
     "metadata": {},
     "output_type": "display_data"
    }
   ],
   "source": [
    "# If we want to see how the reads are distributed amongst the different classes of differentially bound sites and sample groups, we can use a boxplot\n",
    "pdf('../results/diffbind/DiffBind_boxplot.pdf')\n",
    "pvals <- dba.plotBox(dbObj)\n",
    "dev.off()"
   ]
  },
  {
   "cell_type": "code",
   "execution_count": 34,
   "metadata": {
    "vscode": {
     "languageId": "r"
    }
   },
   "outputs": [],
   "source": [
    "# Extracting results\n",
    "res <- dba.report(dbObj, method=DBA_DESEQ2, contrast = 1, th=1)\n",
    "out <- as.data.frame(res)\n",
    "write.table(out, file=\"../results/diffbind/diffbind_results.tsv\", sep=\"\\t\", quote=F, row.names=F)"
   ]
  },
  {
   "cell_type": "code",
   "execution_count": null,
   "metadata": {
    "vscode": {
     "languageId": "r"
    }
   },
   "outputs": [],
   "source": []
  }
 ],
 "metadata": {
  "kernelspec": {
   "display_name": "R",
   "language": "R",
   "name": "ir"
  },
  "language_info": {
   "codemirror_mode": "r",
   "file_extension": ".r",
   "mimetype": "text/x-r-source",
   "name": "R",
   "pygments_lexer": "r",
   "version": "4.3.3"
  }
 },
 "nbformat": 4,
 "nbformat_minor": 2
}
