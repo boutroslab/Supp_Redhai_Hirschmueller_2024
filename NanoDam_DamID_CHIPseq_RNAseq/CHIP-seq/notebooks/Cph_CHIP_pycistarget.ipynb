{
 "cells": [
  {
   "cell_type": "code",
   "execution_count": 1,
   "metadata": {},
   "outputs": [],
   "source": [
    "import pandas as pd\n",
    "import numpy as np\n",
    "import matplotlib.pyplot as pl\n",
    "import seaborn as sns\n",
    "import warnings\n",
    "import pycistarget\n",
    "warnings.filterwarnings(\"ignore\")\n",
    "from pathlib import Path\n",
    "from tqdm.auto import tqdm\n",
    "\n",
    "# Set plotting style\n",
    "from matplotlib import rcParams\n",
    "# Type 2/TrueType fonts\n",
    "rcParams['pdf.fonttype'] = 42\n",
    "rcParams['ps.fonttype'] = 42\n",
    "# Arial font\n",
    "rcParams['font.sans-serif'] = \"Arial\"\n",
    "rcParams['font.family'] = \"sans-serif\"\n",
    "\n",
    "# Paths and Configs\n",
    "import yaml\n",
    "with open('../configuration/config.yaml') as f:\n",
    "    config = yaml.load(f, Loader=yaml.FullLoader)\n",
    "TEMPDIR = Path(config['TEMPDIR'])\n",
    "\n",
    "# SRR3845160: SRX1929540  # sc-chip\n",
    "# SRR3845161: SRX1929542  # sc-input"
   ]
  },
  {
   "cell_type": "markdown",
   "metadata": {},
   "source": [
    "# Define input regions"
   ]
  },
  {
   "cell_type": "code",
   "execution_count": 5,
   "metadata": {},
   "outputs": [],
   "source": [
    "import pyranges as pr\n",
    "import os"
   ]
  },
  {
   "cell_type": "code",
   "execution_count": 94,
   "metadata": {},
   "outputs": [],
   "source": [
    "file = TEMPDIR / 'macs2/contrast_summits.bed'\n",
    "file_str = str(file)\n",
    "bed = pr.read_bed(file_str)\n",
    "bed.Chromosome = \"chr\" + bed.Chromosome.astype(\"str\")\n",
    "\n",
    "genes = {\n",
    "    'CG9650': ['chrX', 7196029, 7241538],\n",
    "    'pros': ['chr3R', 11328480, 11407627],\n",
    "}\n",
    "region_sets = {\n",
    "    gene: bed[\n",
    "        (bed.Chromosome == chrom) & (bed.Start > start) & (bed.End < end)] \n",
    "    for gene, (chrom, start, end) in genes.items()\n",
    "}"
   ]
  },
  {
   "cell_type": "markdown",
   "metadata": {},
   "source": [
    "# cisTarget for de novo motif discovery"
   ]
  },
  {
   "cell_type": "code",
   "execution_count": 96,
   "metadata": {},
   "outputs": [],
   "source": [
    "# wget https://resources.aertslab.org/cistarget/databases/drosophila_melanogaster/dm6/flybase_r6.02/mc_v10_clust/region_based/dm6_v10_clust.regions_vs_motifs.rankings.feather\n",
    "db_path_str = str(TEMPDIR / 'pycistarget/dm6_v10_clust.regions_vs_motifs.rankings.feather')"
   ]
  },
  {
   "cell_type": "code",
   "execution_count": 97,
   "metadata": {},
   "outputs": [],
   "source": [
    "import pycistarget.motif_enrichment_cistarget as mec\n",
    "ctx_db = mec.cisTargetDatabase(db_path_str, \n",
    "                               region_sets=region_sets)"
   ]
  },
  {
   "cell_type": "code",
   "execution_count": 115,
   "metadata": {},
   "outputs": [
    {
     "name": "stdout",
     "output_type": "stream",
     "text": [
      "2024-06-25 11:22:33,341 cisTarget    INFO     Running cisTarget for CG9650 which has 6 regions\n",
      "2024-06-25 11:22:33,883 cisTarget    INFO     Annotating motifs for CG9650\n",
      "2024-06-25 11:22:37,728 cisTarget    INFO     Getting cistromes for CG9650\n"
     ]
    }
   ],
   "source": [
    "gene = 'CG9650'\n",
    "\n",
    "ct=mec.cisTarget(\n",
    "    region_set=region_sets,\n",
    "    name=gene,\n",
    "    species='drosophila_melanogaster',\n",
    "    auc_threshold=0.005,\n",
    "    nes_threshold=3,\n",
    "    rank_threshold=0.05,\n",
    "    annotation_version='v9',\n",
    "    motif_similarity_fdr=0.001,\n",
    "    orthologous_identity_threshold=0,\n",
    ")\n",
    "ct.run_ctx(ctx_db)\n",
    "html = ct.show_result()\n",
    "with open(f'../results/pycistarget_{gene}.html', 'w') as f:\n",
    "    f.write(html.data)"
   ]
  },
  {
   "cell_type": "code",
   "execution_count": 116,
   "metadata": {},
   "outputs": [
    {
     "name": "stdout",
     "output_type": "stream",
     "text": [
      "2024-06-25 11:23:00,779 cisTarget    INFO     Running cisTarget for pros which has 29 regions\n",
      "2024-06-25 11:23:01,132 cisTarget    INFO     Annotating motifs for pros\n",
      "2024-06-25 11:23:04,916 cisTarget    INFO     Getting cistromes for pros\n"
     ]
    }
   ],
   "source": [
    "gene = 'pros'\n",
    "\n",
    "ct=mec.cisTarget(\n",
    "    region_set=region_sets,\n",
    "    name=gene,\n",
    "    species='drosophila_melanogaster',\n",
    "    auc_threshold=0.005,\n",
    "    nes_threshold=3,\n",
    "    rank_threshold=0.05,\n",
    "    annotation_version='v9',\n",
    "    motif_similarity_fdr=0.001,\n",
    "    orthologous_identity_threshold=0,\n",
    ")\n",
    "ct.run_ctx(ctx_db)\n",
    "html = ct.show_result()\n",
    "with open(f'../results/pycistarget_{gene}.html', 'w') as f:\n",
    "    f.write(html.data)"
   ]
  },
  {
   "cell_type": "markdown",
   "metadata": {},
   "source": [
    "# cisTarget for known motif enrichment"
   ]
  },
  {
   "cell_type": "code",
   "execution_count": 2,
   "metadata": {},
   "outputs": [],
   "source": [
    "# scute binding motifs\n",
    "motifs = ['CANNTG', 'GCAGCTGG', 'GCAGGTGT']\n"
   ]
  },
  {
   "cell_type": "code",
   "execution_count": null,
   "metadata": {},
   "outputs": [],
   "source": []
  }
 ],
 "metadata": {
  "kernelspec": {
   "display_name": "pycistarget_env",
   "language": "python",
   "name": "python3"
  },
  "language_info": {
   "codemirror_mode": {
    "name": "ipython",
    "version": 3
   },
   "file_extension": ".py",
   "mimetype": "text/x-python",
   "name": "python",
   "nbconvert_exporter": "python",
   "pygments_lexer": "ipython3",
   "version": "3.11.9"
  }
 },
 "nbformat": 4,
 "nbformat_minor": 2
}
