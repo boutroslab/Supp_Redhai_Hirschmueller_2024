{
 "cells": [
  {
   "cell_type": "code",
   "execution_count": 3,
   "metadata": {
    "vscode": {
     "languageId": "r"
    }
   },
   "outputs": [
    {
     "name": "stdout",
     "output_type": "stream",
     "text": [
      "--2024-06-12 10:32:47--  https://ftp.ncbi.nlm.nih.gov/geo/series/GSE102nnn/GSE102569/suppl/GSE102569%5Fall%5FFPKM.txt.gz\n",
      "Resolving ftp.ncbi.nlm.nih.gov (ftp.ncbi.nlm.nih.gov)... 130.14.250.12, 130.14.250.13, 2607:f220:41e:250::7, ...\n",
      "Connecting to ftp.ncbi.nlm.nih.gov (ftp.ncbi.nlm.nih.gov)|130.14.250.12|:443... connected.\n",
      "HTTP request sent, awaiting response... 200 OK\n",
      "Length: 473301 (462K) [application/x-gzip]\n",
      "Saving to: ‘GSE102569_all_FPKM.txt.gz’\n",
      "\n",
      "GSE102569_all_FPKM. 100%[===================>] 462.21K   969KB/s    in 0.5s    \n",
      "\n",
      "2024-06-12 10:32:49 (969 KB/s) - ‘GSE102569_all_FPKM.txt.gz’ saved [473301/473301]\n",
      "\n"
     ]
    }
   ],
   "source": [
    "# Download the data\n",
    "!wget https://ftp.ncbi.nlm.nih.gov/geo/series/GSE102nnn/GSE102569/suppl/GSE102569%5Fall%5FFPKM.txt.gz\n",
    "!gunzip GSE102569_all_FPKM.txt.gz"
   ]
  },
  {
   "cell_type": "code",
   "execution_count": 2,
   "metadata": {
    "vscode": {
     "languageId": "r"
    }
   },
   "outputs": [],
   "source": [
    "suppressMessages(library('DESeq2'))\n",
    "suppressMessages(library('BiocParallel'))"
   ]
  },
  {
   "cell_type": "code",
   "execution_count": 3,
   "metadata": {
    "vscode": {
     "languageId": "r"
    }
   },
   "outputs": [],
   "source": [
    "df <- read.table(\"GSE102569_all_FPKM.txt\", header=TRUE, sep=\"\\t\", row.names=2)\n",
    "df <- df[, 2:8]"
   ]
  },
  {
   "cell_type": "code",
   "execution_count": 4,
   "metadata": {
    "vscode": {
     "languageId": "r"
    }
   },
   "outputs": [
    {
     "data": {
      "text/html": [
       "FALSE"
      ],
      "text/latex": [
       "FALSE"
      ],
      "text/markdown": [
       "FALSE"
      ],
      "text/plain": [
       "[1] FALSE"
      ]
     },
     "metadata": {},
     "output_type": "display_data"
    }
   ],
   "source": [
    "# R is not actually able to read this file. Switching to Python\n",
    "'CG9650' %in% rownames(df)"
   ]
  },
  {
   "cell_type": "code",
   "execution_count": 3,
   "metadata": {
    "vscode": {
     "languageId": "r"
    }
   },
   "outputs": [],
   "source": [
    "# split by \"_\" then take the first element\n",
    "condition <- sapply(strsplit(colnames(df), \"_\"), function(x) x[1])\n",
    "sample <- colnames(df)\n",
    "colData <- data.frame(condition)\n",
    "rownames(colData) <- sample\n",
    "colnames(colData) <- \"condition\""
   ]
  },
  {
   "cell_type": "code",
   "execution_count": 31,
   "metadata": {
    "vscode": {
     "languageId": "r"
    }
   },
   "outputs": [
    {
     "name": "stderr",
     "output_type": "stream",
     "text": [
      "converting counts to integer mode\n",
      "\n",
      "Warning message in DESeqDataSet(se, design = design, ignoreRank):\n",
      "“some variables in design formula are characters, converting to factors”\n"
     ]
    }
   ],
   "source": [
    "dds <- DESeqDataSetFromMatrix(countData = countData,\n",
    "                              colData = colData,\n",
    "                              design = ~ condition)"
   ]
  },
  {
   "cell_type": "code",
   "execution_count": 32,
   "metadata": {
    "vscode": {
     "languageId": "r"
    }
   },
   "outputs": [
    {
     "name": "stderr",
     "output_type": "stream",
     "text": [
      "estimating size factors\n",
      "\n",
      "estimating dispersions\n",
      "\n",
      "gene-wise dispersion estimates\n",
      "\n",
      "mean-dispersion relationship\n",
      "\n",
      "final dispersion estimates\n",
      "\n",
      "fitting model and testing\n",
      "\n"
     ]
    }
   ],
   "source": [
    "# keep <- rowSums(counts(dds)) >= 10  # min counts per gene\n",
    "dds <- dds[keep,]\n",
    "\n",
    "register(MulticoreParam(4))\n",
    "dds <- DESeq(dds, test=\"LRT\", minReplicatesForReplace=Inf, reduced= ~ 1)\n",
    "res <- results(dds)\n",
    "resOrdered <- res[order(res$pvalue),]\n",
    "write.csv(as.data.frame(resOrdered), file=\"deseq2_results.csv\")"
   ]
  },
  {
   "cell_type": "code",
   "execution_count": null,
   "metadata": {
    "vscode": {
     "languageId": "r"
    }
   },
   "outputs": [],
   "source": [
    "# FBgn0029939\tCG9650\t1.03973\t1.028\t1.21887\t12.6172\t13.1231\t9.2493\t16.6696"
   ]
  },
  {
   "cell_type": "code",
   "execution_count": 46,
   "metadata": {
    "vscode": {
     "languageId": "r"
    }
   },
   "outputs": [],
   "source": [
    "'CG9650' in rownames(tab)"
   ]
  },
  {
   "cell_type": "code",
   "execution_count": 5,
   "metadata": {
    "vscode": {
     "languageId": "r"
    }
   },
   "outputs": [],
   "source": [
    "# Prepare the data\n",
    "data = pd.read_csv('GSE102569_all_FPKM.txt', sep='\\t', index_col=1)\n",
    "data.drop('gene_id', axis=1, inplace=True)\n",
    "counts_df = data.T\n",
    "metadata = pd.DataFrame(index=data.columns)\n",
    "metadata['condition'] = metadata.index.str.split('_').str[0]\n",
    "\n",
    "# Filter genes with low counts\n",
    "genes_to_keep = counts_df.columns[counts_df.sum(axis=0) >= 10]\n",
    "counts_df = counts_df[genes_to_keep]"
   ]
  },
  {
   "cell_type": "code",
   "execution_count": 7,
   "metadata": {
    "vscode": {
     "languageId": "r"
    }
   },
   "outputs": [],
   "source": [
    "# Set up the pyDESeq2 object\n",
    "inference = DefaultInference(n_cpus=8)\n",
    "dds = DeseqDataSet(\n",
    "    counts=counts_df.astype(int),\n",
    "    metadata=metadata,\n",
    "    design_factors=\"condition\",\n",
    "    refit_cooks=True,\n",
    "    inference=inference,\n",
    ")"
   ]
  },
  {
   "cell_type": "code",
   "execution_count": 8,
   "metadata": {
    "vscode": {
     "languageId": "r"
    }
   },
   "outputs": [
    {
     "name": "stderr",
     "output_type": "stream",
     "text": [
      "Fitting size factors...\n",
      "... done in 0.01 seconds.\n",
      "\n",
      "Fitting dispersions...\n",
      "... done in 6.76 seconds.\n",
      "\n",
      "Fitting dispersion trend curve...\n",
      "... done in 4.12 seconds.\n",
      "\n",
      "Fitting MAP dispersions...\n",
      "... done in 12.53 seconds.\n",
      "\n",
      "Fitting LFCs...\n",
      "... done in 5.57 seconds.\n",
      "\n",
      "Replacing 0 outlier genes.\n",
      "\n"
     ]
    }
   ],
   "source": [
    "# Run pyDESeq2\n",
    "dds.deseq2()"
   ]
  },
  {
   "cell_type": "code",
   "execution_count": 9,
   "metadata": {
    "vscode": {
     "languageId": "r"
    }
   },
   "outputs": [],
   "source": [
    "stat_res = DeseqStats(dds, inference=inference)"
   ]
  },
  {
   "cell_type": "code",
   "execution_count": 10,
   "metadata": {
    "vscode": {
     "languageId": "r"
    }
   },
   "outputs": [
    {
     "name": "stderr",
     "output_type": "stream",
     "text": [
      "Running Wald tests...\n",
      "... done in 1.73 seconds.\n",
      "\n"
     ]
    },
    {
     "name": "stdout",
     "output_type": "stream",
     "text": [
      "Log2 fold change & Wald test p-value: condition ScOE vs Ctrl\n",
      "                    baseMean  log2FoldChange     lfcSE      stat  \\\n",
      "gene_short_name                                                    \n",
      "a                   2.925245       -1.274322  0.915312 -1.392227   \n",
      "Abl                 2.417753        0.247676  0.971115  0.255043   \n",
      "abo                 6.896915       -0.448926  0.599719 -0.748561   \n",
      "Acph-1             25.095476        0.559408  0.330849  1.690823   \n",
      "Act5C            2870.438224       -0.747988  0.127443 -5.869204   \n",
      "...                      ...             ...       ...       ...   \n",
      "rump               91.931591        0.779846  0.198635  3.926026   \n",
      "bl                 73.506158        0.423319  0.210207  2.013822   \n",
      "rgr                20.661165       -0.436310  0.392564 -1.111436   \n",
      "CR43174             2.621280       -1.031887  1.009347 -1.022331   \n",
      "CG32138            29.173007       -1.342221  0.366523 -3.662043   \n",
      "\n",
      "                       pvalue          padj  \n",
      "gene_short_name                              \n",
      "a                1.638538e-01           NaN  \n",
      "Abl              7.986899e-01           NaN  \n",
      "abo              4.541217e-01  6.963048e-01  \n",
      "Acph-1           9.087057e-02  2.552908e-01  \n",
      "Act5C            4.378924e-09  1.433891e-07  \n",
      "...                       ...           ...  \n",
      "rump             8.636074e-05  9.323737e-04  \n",
      "bl               4.402821e-02  1.508607e-01  \n",
      "rgr              2.663807e-01  5.162485e-01  \n",
      "CR43174          3.066242e-01           NaN  \n",
      "CG32138          2.502115e-04  2.363222e-03  \n",
      "\n",
      "[8106 rows x 6 columns]\n"
     ]
    }
   ],
   "source": [
    "stat_res.summary()"
   ]
  },
  {
   "cell_type": "code",
   "execution_count": 42,
   "metadata": {
    "vscode": {
     "languageId": "r"
    }
   },
   "outputs": [
    {
     "name": "stderr",
     "output_type": "stream",
     "text": [
      "Fitting MAP LFCs...\n"
     ]
    },
    {
     "name": "stdout",
     "output_type": "stream",
     "text": [
      "Shrunk log2 fold change & Wald test p-value: condition ScOE vs Ctrl\n",
      "                    baseMean  log2FoldChange     lfcSE      stat  \\\n",
      "gene_short_name                                                    \n",
      "a                   2.925245       -0.408479  0.696167 -1.392166   \n",
      "Abl                 2.417753        0.060599  0.640593  0.255032   \n",
      "abo                 6.896915       -0.212418  0.495513 -0.748523   \n",
      "Acph-1             25.095476        0.439084  0.321851  1.690695   \n",
      "Act5C            2870.438224       -0.725579  0.127220 -5.867899   \n",
      "...                      ...             ...       ...       ...   \n",
      "rump               91.931591        0.728513  0.198474  3.925461   \n",
      "bl                 73.506158        0.378015  0.207173  2.013564   \n",
      "rgr                20.661165       -0.301688  0.364734 -1.111378   \n",
      "CR43174             2.621280       -0.258833  0.660605 -1.022296   \n",
      "CG32138            29.173007       -1.183638  0.369694 -3.661828   \n",
      "\n",
      "                       pvalue          padj  \n",
      "gene_short_name                              \n",
      "a                1.638723e-01           NaN  \n",
      "Abl              7.986983e-01           NaN  \n",
      "abo              4.541445e-01  6.963560e-01  \n",
      "Acph-1           9.089501e-02  2.553594e-01  \n",
      "Act5C            4.413531e-09  1.445223e-07  \n",
      "...                       ...           ...  \n",
      "rump             8.656397e-05  9.345678e-04  \n",
      "bl               4.405534e-02  1.509537e-01  \n",
      "rgr              2.664059e-01  5.163097e-01  \n",
      "CR43174          3.066407e-01           NaN  \n",
      "CG32138          2.504222e-04  2.365212e-03  \n",
      "\n",
      "[8106 rows x 6 columns]\n"
     ]
    },
    {
     "name": "stderr",
     "output_type": "stream",
     "text": [
      "... done in 0.69 seconds.\n",
      "\n"
     ]
    }
   ],
   "source": [
    "stat_res.lfc_shrink(coeff=\"condition_ScOE_vs_Ctrl\")"
   ]
  },
  {
   "cell_type": "code",
   "execution_count": 48,
   "metadata": {
    "vscode": {
     "languageId": "r"
    }
   },
   "outputs": [],
   "source": [
    "res = stat_res.results_df"
   ]
  },
  {
   "cell_type": "code",
   "execution_count": 49,
   "metadata": {
    "vscode": {
     "languageId": "r"
    }
   },
   "outputs": [
    {
     "data": {
      "text/html": [
       "<div>\n",
       "<style scoped>\n",
       "    .dataframe tbody tr th:only-of-type {\n",
       "        vertical-align: middle;\n",
       "    }\n",
       "\n",
       "    .dataframe tbody tr th {\n",
       "        vertical-align: top;\n",
       "    }\n",
       "\n",
       "    .dataframe thead th {\n",
       "        text-align: right;\n",
       "    }\n",
       "</style>\n",
       "<table border=\"1\" class=\"dataframe\">\n",
       "  <thead>\n",
       "    <tr style=\"text-align: right;\">\n",
       "      <th></th>\n",
       "      <th>baseMean</th>\n",
       "      <th>log2FoldChange</th>\n",
       "      <th>lfcSE</th>\n",
       "      <th>stat</th>\n",
       "      <th>pvalue</th>\n",
       "      <th>padj</th>\n",
       "    </tr>\n",
       "    <tr>\n",
       "      <th>gene_short_name</th>\n",
       "      <th></th>\n",
       "      <th></th>\n",
       "      <th></th>\n",
       "      <th></th>\n",
       "      <th></th>\n",
       "      <th></th>\n",
       "    </tr>\n",
       "  </thead>\n",
       "  <tbody>\n",
       "    <tr>\n",
       "      <th>a</th>\n",
       "      <td>2.925245</td>\n",
       "      <td>-0.408479</td>\n",
       "      <td>0.696167</td>\n",
       "      <td>-1.392166</td>\n",
       "      <td>1.638723e-01</td>\n",
       "      <td>NaN</td>\n",
       "    </tr>\n",
       "    <tr>\n",
       "      <th>Abl</th>\n",
       "      <td>2.417753</td>\n",
       "      <td>0.060599</td>\n",
       "      <td>0.640593</td>\n",
       "      <td>0.255032</td>\n",
       "      <td>7.986983e-01</td>\n",
       "      <td>NaN</td>\n",
       "    </tr>\n",
       "    <tr>\n",
       "      <th>abo</th>\n",
       "      <td>6.896915</td>\n",
       "      <td>-0.212418</td>\n",
       "      <td>0.495513</td>\n",
       "      <td>-0.748523</td>\n",
       "      <td>4.541445e-01</td>\n",
       "      <td>6.963560e-01</td>\n",
       "    </tr>\n",
       "    <tr>\n",
       "      <th>Acph-1</th>\n",
       "      <td>25.095476</td>\n",
       "      <td>0.439084</td>\n",
       "      <td>0.321851</td>\n",
       "      <td>1.690695</td>\n",
       "      <td>9.089501e-02</td>\n",
       "      <td>2.553594e-01</td>\n",
       "    </tr>\n",
       "    <tr>\n",
       "      <th>Act5C</th>\n",
       "      <td>2870.438224</td>\n",
       "      <td>-0.725579</td>\n",
       "      <td>0.127220</td>\n",
       "      <td>-5.867899</td>\n",
       "      <td>4.413531e-09</td>\n",
       "      <td>1.445223e-07</td>\n",
       "    </tr>\n",
       "    <tr>\n",
       "      <th>...</th>\n",
       "      <td>...</td>\n",
       "      <td>...</td>\n",
       "      <td>...</td>\n",
       "      <td>...</td>\n",
       "      <td>...</td>\n",
       "      <td>...</td>\n",
       "    </tr>\n",
       "    <tr>\n",
       "      <th>rump</th>\n",
       "      <td>91.931591</td>\n",
       "      <td>0.728513</td>\n",
       "      <td>0.198474</td>\n",
       "      <td>3.925461</td>\n",
       "      <td>8.656397e-05</td>\n",
       "      <td>9.345678e-04</td>\n",
       "    </tr>\n",
       "    <tr>\n",
       "      <th>bl</th>\n",
       "      <td>73.506158</td>\n",
       "      <td>0.378015</td>\n",
       "      <td>0.207173</td>\n",
       "      <td>2.013564</td>\n",
       "      <td>4.405534e-02</td>\n",
       "      <td>1.509537e-01</td>\n",
       "    </tr>\n",
       "    <tr>\n",
       "      <th>rgr</th>\n",
       "      <td>20.661165</td>\n",
       "      <td>-0.301688</td>\n",
       "      <td>0.364734</td>\n",
       "      <td>-1.111378</td>\n",
       "      <td>2.664059e-01</td>\n",
       "      <td>5.163097e-01</td>\n",
       "    </tr>\n",
       "    <tr>\n",
       "      <th>CR43174</th>\n",
       "      <td>2.621280</td>\n",
       "      <td>-0.258833</td>\n",
       "      <td>0.660605</td>\n",
       "      <td>-1.022296</td>\n",
       "      <td>3.066407e-01</td>\n",
       "      <td>NaN</td>\n",
       "    </tr>\n",
       "    <tr>\n",
       "      <th>CG32138</th>\n",
       "      <td>29.173007</td>\n",
       "      <td>-1.183638</td>\n",
       "      <td>0.369694</td>\n",
       "      <td>-3.661828</td>\n",
       "      <td>2.504222e-04</td>\n",
       "      <td>2.365212e-03</td>\n",
       "    </tr>\n",
       "  </tbody>\n",
       "</table>\n",
       "<p>8106 rows × 6 columns</p>\n",
       "</div>"
      ],
      "text/plain": [
       "                    baseMean  log2FoldChange     lfcSE      stat  \\\n",
       "gene_short_name                                                    \n",
       "a                   2.925245       -0.408479  0.696167 -1.392166   \n",
       "Abl                 2.417753        0.060599  0.640593  0.255032   \n",
       "abo                 6.896915       -0.212418  0.495513 -0.748523   \n",
       "Acph-1             25.095476        0.439084  0.321851  1.690695   \n",
       "Act5C            2870.438224       -0.725579  0.127220 -5.867899   \n",
       "...                      ...             ...       ...       ...   \n",
       "rump               91.931591        0.728513  0.198474  3.925461   \n",
       "bl                 73.506158        0.378015  0.207173  2.013564   \n",
       "rgr                20.661165       -0.301688  0.364734 -1.111378   \n",
       "CR43174             2.621280       -0.258833  0.660605 -1.022296   \n",
       "CG32138            29.173007       -1.183638  0.369694 -3.661828   \n",
       "\n",
       "                       pvalue          padj  \n",
       "gene_short_name                              \n",
       "a                1.638723e-01           NaN  \n",
       "Abl              7.986983e-01           NaN  \n",
       "abo              4.541445e-01  6.963560e-01  \n",
       "Acph-1           9.089501e-02  2.553594e-01  \n",
       "Act5C            4.413531e-09  1.445223e-07  \n",
       "...                       ...           ...  \n",
       "rump             8.656397e-05  9.345678e-04  \n",
       "bl               4.405534e-02  1.509537e-01  \n",
       "rgr              2.664059e-01  5.163097e-01  \n",
       "CR43174          3.066407e-01           NaN  \n",
       "CG32138          2.504222e-04  2.365212e-03  \n",
       "\n",
       "[8106 rows x 6 columns]"
      ]
     },
     "execution_count": 49,
     "metadata": {},
     "output_type": "execute_result"
    }
   ],
   "source": [
    "res"
   ]
  },
  {
   "cell_type": "code",
   "execution_count": 51,
   "metadata": {
    "vscode": {
     "languageId": "r"
    }
   },
   "outputs": [
    {
     "data": {
      "text/plain": [
       "baseMean          7.841153\n",
       "log2FoldChange    3.292876\n",
       "lfcSE             0.903715\n",
       "stat              3.897346\n",
       "pvalue            0.000097\n",
       "padj              0.001034\n",
       "Name: CG9650, dtype: float64"
      ]
     },
     "execution_count": 51,
     "metadata": {},
     "output_type": "execute_result"
    }
   ],
   "source": [
    "res.loc['CG9650']"
   ]
  },
  {
   "cell_type": "code",
   "execution_count": 52,
   "metadata": {
    "vscode": {
     "languageId": "r"
    }
   },
   "outputs": [
    {
     "data": {
      "text/html": [
       "<div>\n",
       "<style scoped>\n",
       "    .dataframe tbody tr th:only-of-type {\n",
       "        vertical-align: middle;\n",
       "    }\n",
       "\n",
       "    .dataframe tbody tr th {\n",
       "        vertical-align: top;\n",
       "    }\n",
       "\n",
       "    .dataframe thead th {\n",
       "        text-align: right;\n",
       "    }\n",
       "</style>\n",
       "<table border=\"1\" class=\"dataframe\">\n",
       "  <thead>\n",
       "    <tr style=\"text-align: right;\">\n",
       "      <th></th>\n",
       "      <th>baseMean</th>\n",
       "      <th>log2FoldChange</th>\n",
       "      <th>lfcSE</th>\n",
       "      <th>stat</th>\n",
       "      <th>pvalue</th>\n",
       "      <th>padj</th>\n",
       "    </tr>\n",
       "    <tr>\n",
       "      <th>gene_short_name</th>\n",
       "      <th></th>\n",
       "      <th></th>\n",
       "      <th></th>\n",
       "      <th></th>\n",
       "      <th></th>\n",
       "      <th></th>\n",
       "    </tr>\n",
       "  </thead>\n",
       "  <tbody>\n",
       "    <tr>\n",
       "      <th>a</th>\n",
       "      <td>2.925245</td>\n",
       "      <td>-0.408479</td>\n",
       "      <td>0.696167</td>\n",
       "      <td>-1.392166</td>\n",
       "      <td>1.638723e-01</td>\n",
       "      <td>NaN</td>\n",
       "    </tr>\n",
       "    <tr>\n",
       "      <th>Abl</th>\n",
       "      <td>2.417753</td>\n",
       "      <td>0.060599</td>\n",
       "      <td>0.640593</td>\n",
       "      <td>0.255032</td>\n",
       "      <td>7.986983e-01</td>\n",
       "      <td>NaN</td>\n",
       "    </tr>\n",
       "    <tr>\n",
       "      <th>abo</th>\n",
       "      <td>6.896915</td>\n",
       "      <td>-0.212418</td>\n",
       "      <td>0.495513</td>\n",
       "      <td>-0.748523</td>\n",
       "      <td>4.541445e-01</td>\n",
       "      <td>6.963560e-01</td>\n",
       "    </tr>\n",
       "    <tr>\n",
       "      <th>Acph-1</th>\n",
       "      <td>25.095476</td>\n",
       "      <td>0.439084</td>\n",
       "      <td>0.321851</td>\n",
       "      <td>1.690695</td>\n",
       "      <td>9.089501e-02</td>\n",
       "      <td>2.553594e-01</td>\n",
       "    </tr>\n",
       "    <tr>\n",
       "      <th>Act5C</th>\n",
       "      <td>2870.438224</td>\n",
       "      <td>-0.725579</td>\n",
       "      <td>0.127220</td>\n",
       "      <td>-5.867899</td>\n",
       "      <td>4.413531e-09</td>\n",
       "      <td>1.445223e-07</td>\n",
       "    </tr>\n",
       "    <tr>\n",
       "      <th>...</th>\n",
       "      <td>...</td>\n",
       "      <td>...</td>\n",
       "      <td>...</td>\n",
       "      <td>...</td>\n",
       "      <td>...</td>\n",
       "      <td>...</td>\n",
       "    </tr>\n",
       "    <tr>\n",
       "      <th>rump</th>\n",
       "      <td>91.931591</td>\n",
       "      <td>0.728513</td>\n",
       "      <td>0.198474</td>\n",
       "      <td>3.925461</td>\n",
       "      <td>8.656397e-05</td>\n",
       "      <td>9.345678e-04</td>\n",
       "    </tr>\n",
       "    <tr>\n",
       "      <th>bl</th>\n",
       "      <td>73.506158</td>\n",
       "      <td>0.378015</td>\n",
       "      <td>0.207173</td>\n",
       "      <td>2.013564</td>\n",
       "      <td>4.405534e-02</td>\n",
       "      <td>1.509537e-01</td>\n",
       "    </tr>\n",
       "    <tr>\n",
       "      <th>rgr</th>\n",
       "      <td>20.661165</td>\n",
       "      <td>-0.301688</td>\n",
       "      <td>0.364734</td>\n",
       "      <td>-1.111378</td>\n",
       "      <td>2.664059e-01</td>\n",
       "      <td>5.163097e-01</td>\n",
       "    </tr>\n",
       "    <tr>\n",
       "      <th>CR43174</th>\n",
       "      <td>2.621280</td>\n",
       "      <td>-0.258833</td>\n",
       "      <td>0.660605</td>\n",
       "      <td>-1.022296</td>\n",
       "      <td>3.066407e-01</td>\n",
       "      <td>NaN</td>\n",
       "    </tr>\n",
       "    <tr>\n",
       "      <th>CG32138</th>\n",
       "      <td>29.173007</td>\n",
       "      <td>-1.183638</td>\n",
       "      <td>0.369694</td>\n",
       "      <td>-3.661828</td>\n",
       "      <td>2.504222e-04</td>\n",
       "      <td>2.365212e-03</td>\n",
       "    </tr>\n",
       "  </tbody>\n",
       "</table>\n",
       "<p>8106 rows × 6 columns</p>\n",
       "</div>"
      ],
      "text/plain": [
       "                    baseMean  log2FoldChange     lfcSE      stat  \\\n",
       "gene_short_name                                                    \n",
       "a                   2.925245       -0.408479  0.696167 -1.392166   \n",
       "Abl                 2.417753        0.060599  0.640593  0.255032   \n",
       "abo                 6.896915       -0.212418  0.495513 -0.748523   \n",
       "Acph-1             25.095476        0.439084  0.321851  1.690695   \n",
       "Act5C            2870.438224       -0.725579  0.127220 -5.867899   \n",
       "...                      ...             ...       ...       ...   \n",
       "rump               91.931591        0.728513  0.198474  3.925461   \n",
       "bl                 73.506158        0.378015  0.207173  2.013564   \n",
       "rgr                20.661165       -0.301688  0.364734 -1.111378   \n",
       "CR43174             2.621280       -0.258833  0.660605 -1.022296   \n",
       "CG32138            29.173007       -1.183638  0.369694 -3.661828   \n",
       "\n",
       "                       pvalue          padj  \n",
       "gene_short_name                              \n",
       "a                1.638723e-01           NaN  \n",
       "Abl              7.986983e-01           NaN  \n",
       "abo              4.541445e-01  6.963560e-01  \n",
       "Acph-1           9.089501e-02  2.553594e-01  \n",
       "Act5C            4.413531e-09  1.445223e-07  \n",
       "...                       ...           ...  \n",
       "rump             8.656397e-05  9.345678e-04  \n",
       "bl               4.405534e-02  1.509537e-01  \n",
       "rgr              2.664059e-01  5.163097e-01  \n",
       "CR43174          3.066407e-01           NaN  \n",
       "CG32138          2.504222e-04  2.365212e-03  \n",
       "\n",
       "[8106 rows x 6 columns]"
      ]
     },
     "execution_count": 52,
     "metadata": {},
     "output_type": "execute_result"
    }
   ],
   "source": [
    "res"
   ]
  },
  {
   "cell_type": "code",
   "execution_count": 63,
   "metadata": {
    "vscode": {
     "languageId": "r"
    }
   },
   "outputs": [],
   "source": [
    "import seaborn as sns\n",
    "import numpy as np\n",
    "import matplotlib.pyplot as pl"
   ]
  },
  {
   "cell_type": "code",
   "execution_count": 64,
   "metadata": {
    "vscode": {
     "languageId": "r"
    }
   },
   "outputs": [],
   "source": [
    "res['score'] = -np.log10(res['pvalue'])"
   ]
  },
  {
   "cell_type": "code",
   "execution_count": 91,
   "metadata": {
    "vscode": {
     "languageId": "r"
    }
   },
   "outputs": [
    {
     "data": {
      "text/plain": [
       "0.0010338850898068712"
      ]
     },
     "execution_count": 91,
     "metadata": {},
     "output_type": "execute_result"
    }
   ],
   "source": []
  },
  {
   "cell_type": "code",
   "execution_count": 95,
   "metadata": {
    "vscode": {
     "languageId": "r"
    }
   },
   "outputs": [
    {
     "data": {
      "image/png": "[encoded data removed]",
      "text/plain": [
       "<Figure size 640x480 with 1 Axes>"
      ]
     },
     "metadata": {},
     "output_type": "display_data"
    }
   ],
   "source": [
    "with sns.axes_style('whitegrid'):\n",
    "    sns.scatterplot(data=res, y='score', x='log2FoldChange')\n",
    "pv = np.round(res.loc['CG9650']['pvalue'], 5)\n",
    "pl.title(f\"Chen et al. Reanalysis\\nScOE vs Ctrl\\nCph p-val={pv}\", fontdict=dict(fontsize=14))\n",
    "pl.axvline(0, color='black', linestyle='--')\n",
    "pl.xlim(-15, 15)\n",
    "pl.ylabel('-log10(p-value)')\n",
    "sns.scatterplot(data=res.loc[['CG9650']], y='score', x='log2FoldChange', ax=pl.gca(), color='red')\n",
    "x,y = res.loc['CG9650'][['log2FoldChange', 'score']]\n",
    "pl.annotate('CG9650\\naka Cph', (x,y), xytext=(x+7, y+10), arrowprops=dict(facecolor='black', shrink=0.05))\n",
    "\n",
    "pl.show()"
   ]
  },
  {
   "cell_type": "code",
   "execution_count": 90,
   "metadata": {
    "vscode": {
     "languageId": "r"
    }
   },
   "outputs": [
    {
     "data": {
      "text/plain": [
       "baseMean          7.841153\n",
       "log2FoldChange    3.292876\n",
       "lfcSE             0.903715\n",
       "stat              3.897346\n",
       "pvalue            0.000097\n",
       "padj              0.001034\n",
       "score             4.012099\n",
       "Name: CG9650, dtype: float64"
      ]
     },
     "execution_count": 90,
     "metadata": {},
     "output_type": "execute_result"
    }
   ],
   "source": [
    "res.loc['CG9650']"
   ]
  },
  {
   "cell_type": "code",
   "execution_count": null,
   "metadata": {
    "vscode": {
     "languageId": "r"
    }
   },
   "outputs": [],
   "source": []
  },
  {
   "cell_type": "code",
   "execution_count": null,
   "metadata": {
    "vscode": {
     "languageId": "r"
    }
   },
   "outputs": [],
   "source": []
  },
  {
   "cell_type": "code",
   "execution_count": null,
   "metadata": {
    "vscode": {
     "languageId": "r"
    }
   },
   "outputs": [],
   "source": []
  },
  {
   "cell_type": "code",
   "execution_count": null,
   "metadata": {
    "vscode": {
     "languageId": "r"
    }
   },
   "outputs": [],
   "source": []
  },
  {
   "cell_type": "code",
   "execution_count": null,
   "metadata": {
    "vscode": {
     "languageId": "r"
    }
   },
   "outputs": [],
   "source": []
  },
  {
   "cell_type": "code",
   "execution_count": null,
   "metadata": {
    "vscode": {
     "languageId": "r"
    }
   },
   "outputs": [],
   "source": []
  },
  {
   "cell_type": "code",
   "execution_count": 72,
   "metadata": {
    "vscode": {
     "languageId": "r"
    }
   },
   "outputs": [],
   "source": []
  },
  {
   "cell_type": "code",
   "execution_count": null,
   "metadata": {
    "vscode": {
     "languageId": "r"
    }
   },
   "outputs": [],
   "source": []
  }
 ],
 "metadata": {
  "kernelspec": {
   "display_name": "R",
   "language": "R",
   "name": "ir"
  },
  "language_info": {
   "codemirror_mode": "r",
   "file_extension": ".r",
   "mimetype": "text/x-r-source",
   "name": "R",
   "pygments_lexer": "r",
   "version": "4.3.3"
  }
 },
 "nbformat": 4,
 "nbformat_minor": 2
}
