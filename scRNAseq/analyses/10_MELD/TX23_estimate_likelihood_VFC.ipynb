{
 "cells": [
  {
   "cell_type": "markdown",
   "id": "ec6b28dc-4aa8-4d91-9e30-8f04b0d3626e",
   "metadata": {},
   "source": [
    "## MELD TX23\n",
    "Because we observe quite strong batch effects between TX23 and TX23, we will run the replicates seperately and afterwards compare the MELD likelihoods as if they were calculated on the same graph (see [this github issue](https://github.com/KrishnaswamyLab/MELD/issues/56))."
   ]
  },
  {
   "cell_type": "code",
   "execution_count": null,
   "id": "0af568b5-790c-412d-8cc6-1e2a6fcd9499",
   "metadata": {
    "tags": []
   },
   "outputs": [],
   "source": [
    "import pandas as pd\n",
    "import numpy as np\n",
    "import graphtools as gt\n",
    "import matplotlib.pyplot as plt\n",
    "import phate\n",
    "import scprep\n",
    "import meld\n",
    "import sklearn\n",
    "import scipy"
   ]
  },
  {
   "cell_type": "code",
   "execution_count": null,
   "id": "615e0f2a-7703-466e-b482-7f7a14e18d01",
   "metadata": {
    "tags": []
   },
   "outputs": [],
   "source": [
    "# Load the data\n",
    "pca_data = pd.read_csv(\"../../output/MELD/pca_data_tx23.tsv\", sep=\"\\t\", index_col=\"cell_barcode\")\n",
    "mdata = pd.read_csv(\"../../output/MELD/mdata_tx23.tsv\", sep=\"\\t\", index_col=\"cell_barcode\", low_memory=False)"
   ]
  },
  {
   "cell_type": "code",
   "execution_count": null,
   "id": "bf9a0307-523c-44da-8b5f-759e73f1e70f",
   "metadata": {
    "tags": []
   },
   "outputs": [],
   "source": [
    "# load in results from the parameter serach\n",
    "results = pd.read_csv(\"../../output/MELD/parameter_search_meld_tx23.csv\", sep=\"\\t\")\n",
    "results_wide = results.groupby(['beta', 'knn']).mean().sort_values(by='MSE').reset_index()\n",
    "ax = scprep.plot.scatter(results_wide['beta'], results_wide['knn'], \n",
    "                         s=50, c=results_wide['MSE'], vmax=0.006, cmap='inferno_r')\n",
    "\n",
    "# Highlight the top performing combination with a large red dot\n",
    "top_result = results_wide.sort_values('MSE').iloc[0]\n",
    "ax.scatter(top_result['beta'], top_result['knn'], c='r', s=100, linewidth=1, edgecolor='k')"
   ]
  },
  {
   "cell_type": "markdown",
   "id": "e2472d92-a246-4c73-9f05-21c2d4326f01",
   "metadata": {
    "tags": []
   },
   "source": [
    "### Running MELD"
   ]
  },
  {
   "cell_type": "code",
   "execution_count": null,
   "id": "24d23be7-8a2e-4ce4-aca7-18bb325935c0",
   "metadata": {
    "scrolled": true,
    "tags": []
   },
   "outputs": [],
   "source": [
    "G = gt.Graph(pca_data, knn=int(top_result['knn']), use_pygsp=True) # build a graph using all the data\n",
    "meld_op = meld.MELD(beta=top_result['beta'])\n",
    "sample_densities = meld_op.fit_transform(G, sample_labels=mdata['orig.ident']) # estimate the densities for both the ctrl and notch -> corresponds to simply the orig.ident"
   ]
  },
  {
   "cell_type": "code",
   "execution_count": null,
   "id": "4242c9ce-36d1-412d-8ede-cee8d85e93df",
   "metadata": {
    "tags": []
   },
   "outputs": [],
   "source": [
    "# transform densities to likelihoods.\n",
    "sample_likelihoods = sklearn.preprocessing.normalize(sample_densities, norm='l1') # per row, likelihood should sum to 1\n",
    "sample_likelihoods = pd.DataFrame(sample_likelihoods, columns=np.unique(mdata[\"orig.ident\"]))\n",
    "sample_likelihoods.index = mdata[\"Barcode_unique\"]\n",
    "mdata[\"N_likelihood\"] = sample_likelihoods.loc[:,\"TX23_N\"]\n"
   ]
  },
  {
   "cell_type": "markdown",
   "id": "ef48d3eb-f612-4f71-8ea7-f121e695b757",
   "metadata": {},
   "source": [
    "## Run VFC for the progenitor population"
   ]
  },
  {
   "cell_type": "code",
   "execution_count": null,
   "id": "65e464af-1515-44e5-b332-9a393acd2c81",
   "metadata": {
    "tags": []
   },
   "outputs": [],
   "source": [
    "# First annotate which cells are considered progenitors.\n",
    "# in our case: ISCs, EBs and EEPs\n",
    "eep_barcodes = mdata.loc[mdata.loc[:,\"high_res_annotation\"]==\"EEP\", \"Barcode_unique\"].to_numpy()\n",
    "progenitor_mask = (mdata[\"celltype_manual\"].isin([\"ISC\", \"EB\"]) | mdata[\"Barcode_unique\"].isin(eep_barcodes)).to_numpy()\n",
    "progenitor_pca =  pca_data.loc[progenitor_mask]"
   ]
  },
  {
   "cell_type": "code",
   "execution_count": null,
   "id": "d7b53898-d5ed-4750-b7ac-3920fc636e31",
   "metadata": {
    "tags": []
   },
   "outputs": [],
   "source": [
    "# calculate VFC. \n",
    "# this takes quite a while\n",
    "cluster=\"progenitors\"\n",
    "vfc_op_per_cluster = {}\n",
    "curr_G = gt.Graph(progenitor_pca, use_pygsp=True)\n",
    "curr_G.compute_fourier_basis()\n",
    "curr_sample_labels = mdata['orig.ident'].loc[progenitor_mask]\n",
    "curr_sample_labels = pd.Series([0 if i == \"TX23\" else 1 for i in curr_sample_labels])\n",
    "# get the perturbation likelihood which was calculated above\n",
    "curr_likelihood = mdata['N_likelihood'].loc[progenitor_mask]\n",
    "curr_vfc = meld.VertexFrequencyCluster(n_clusters = 2)\n",
    "curr_vfc.fit_transform(curr_G, curr_sample_labels, curr_likelihood)\n",
    "vfc_op_per_cluster[cluster] = curr_vfc"
   ]
  },
  {
   "cell_type": "code",
   "execution_count": null,
   "id": "1017225e-4121-4825-acfa-b82a9eddcef3",
   "metadata": {
    "tags": []
   },
   "outputs": [],
   "source": [
    "cluster=\"progenitors\"\n",
    "curr_vfc = vfc_op_per_cluster[cluster]\n",
    "subclustering_results = {}\n",
    "clusters_by_n = {}\n",
    "for n in ([2,3]):\n",
    "    clusters_by_n[n] = curr_vfc.predict(n) # this actually produces VFC prediction results. \n",
    "subclustering_results[cluster] = clusters_by_n"
   ]
  },
  {
   "cell_type": "code",
   "execution_count": null,
   "id": "145b7d9d-d7c8-4c28-9705-38cc4aa01a5f",
   "metadata": {
    "tags": []
   },
   "outputs": [],
   "source": [
    "# export all information as a table which we can read into R\n",
    "cluster = \"progenitors\"\n",
    "df = pd.DataFrame({\n",
    "    \"Barcode\": mdata['Barcode_unique'].loc[progenitor_mask],\n",
    "    \"N_likelihood\" : mdata['N_likelihood'].loc[progenitor_mask],\n",
    "    \"VFC_2\": subclustering_results[cluster][2],\n",
    "    \"VFC_3\": subclustering_results[cluster][3],\n",
    "    \"orig.ident\" : mdata['orig.ident'].loc[progenitor_mask]\n",
    "})\n",
    "df.to_csv(f\"../../output/MELD/TX23_info_{cluster}.tsv\",sep=\"\\t\", index=False)"
   ]
  },
  {
   "cell_type": "markdown",
   "id": "eb93ecf5",
   "metadata": {},
   "source": [
    "## Do the same as above for the other celltypes"
   ]
  },
  {
   "cell_type": "code",
   "execution_count": null,
   "id": "8883bac6",
   "metadata": {},
   "outputs": [],
   "source": [
    "## Run VFC\n",
    "np.random.seed(0)\n",
    "vfc_op_per_cluster = {}\n",
    "\n",
    "# only analyze cell types with a certain number of cells in BOTH conditions\n",
    "clusters = ['EB', 'EE', 'ISC',  'aEC', 'daEC', 'mEC', 'pEC']\n",
    "\n",
    "for cluster in clusters:\n",
    "    print(cluster)\n",
    "    curr_G = gt.Graph(pca_data.loc[mdata[\"celltype_manual\"] == cluster], use_pygsp=True)\n",
    "    curr_G.compute_fourier_basis()\n",
    "    curr_sample_labels = mdata['orig.ident'].loc[mdata[\"celltype_manual\"] == cluster]\n",
    "    curr_sample_labels = pd.Series([0 if i == \"TX23\" else 1 for i in curr_sample_labels])\n",
    "    curr_likelihood =mdata['N_likelihood'].loc[mdata[\"celltype_manual\"] == cluster]\n",
    "    curr_vfc = meld.VertexFrequencyCluster(n_clusters = 3)\n",
    "    curr_vfc.fit_transform(curr_G, curr_sample_labels, curr_likelihood)\n",
    "    vfc_op_per_cluster[cluster] = curr_vfc"
   ]
  },
  {
   "cell_type": "code",
   "execution_count": null,
   "id": "dc5d207d",
   "metadata": {},
   "outputs": [],
   "source": [
    "subclustering_results = {}\n",
    "for cluster in clusters:\n",
    "    print(cluster)\n",
    "    curr_vfc = vfc_op_per_cluster[cluster]\n",
    "    clusters_by_n = {}\n",
    "    for n in [2,3]:\n",
    "        clusters_by_n[n] = curr_vfc.predict(n)\n",
    "    subclustering_results[cluster] = clusters_by_n"
   ]
  },
  {
   "cell_type": "code",
   "execution_count": null,
   "id": "dd6338cb",
   "metadata": {},
   "outputs": [],
   "source": [
    "# export all information as a table which we can read into R\n",
    "for cluster in clusters: \n",
    "    df = pd.DataFrame({\n",
    "        \"Barcode\": mdata['Barcode_unique'].loc[mdata['celltype_manual'] == cluster],\n",
    "        \"N_likelihood\" : mdata['N_likelihood'].loc[mdata['celltype_manual'] == cluster],\n",
    "        \"VFC_2\": subclustering_results[cluster][2],\n",
    "        \"VFC_3\": subclustering_results[cluster][3],\n",
    "        \"orig.ident\" : mdata['orig.ident'].loc[mdata['celltype_manual'] == cluster]\n",
    "    })\n",
    "    df.to_csv(f\"../../output/MELD/TX23_info_{cluster}.tsv\",sep=\"\\t\", index=False)"
   ]
  }
 ],
 "metadata": {
  "kernelspec": {
   "display_name": "MELD_ENV",
   "language": "python",
   "name": "meld_env"
  },
  "language_info": {
   "codemirror_mode": {
    "name": "ipython",
    "version": 3
   },
   "file_extension": ".py",
   "mimetype": "text/x-python",
   "name": "python",
   "nbconvert_exporter": "python",
   "pygments_lexer": "ipython3",
   "version": "3.9.16"
  }
 },
 "nbformat": 4,
 "nbformat_minor": 5
}
